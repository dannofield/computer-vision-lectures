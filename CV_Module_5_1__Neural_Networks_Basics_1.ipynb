{
  "nbformat": 4,
  "nbformat_minor": 0,
  "metadata": {
    "accelerator": "GPU",
    "kernelspec": {
      "display_name": "Python 3",
      "name": "python3"
    },
    "language_info": {
      "name": "python"
    },
    "colab": {
      "provenance": [],
      "toc_visible": true,
      "collapsed_sections": [
        "3SPENOIgiNbF",
        "VHmqdlvRkQgO",
        "2oewb9NFmogO",
        "N8Yxppe-P8QA",
        "PjuqUenbdAwT"
      ],
      "include_colab_link": true
    }
  },
  "cells": [
    {
      "cell_type": "markdown",
      "metadata": {
        "id": "view-in-github",
        "colab_type": "text"
      },
      "source": [
        "<a href=\"https://colab.research.google.com/github/SudeepSarkar/sarkar-computer-vision-lectures/blob/main/CV_Module_5_1__Neural_Networks_Basics_1.ipynb\" target=\"_parent\"><img src=\"https://colab.research.google.com/assets/colab-badge.svg\" alt=\"Open In Colab\"/></a>"
      ]
    },
    {
      "cell_type": "markdown",
      "metadata": {
        "id": "ZbAPDWw3MDwb"
      },
      "source": [
        "# Neural Network Basics 1\n",
        "## (Dive into Deep Learning https://d2l.ai/chapter_linear-networks/index.html)\n",
        "\n",
        "* The material for this notebook is mainly from the Open Source book -- Dive into Deep Learning. I have adapted a few things for the Computer Vision course at the University of South Florida, Tampa.\n",
        "\n",
        "* Some figures are from Richard Szeliski's vision textbook for this course."
      ]
    },
    {
      "cell_type": "markdown",
      "metadata": {
        "id": "5Uz-P8fBbtDD"
      },
      "source": [
        "# Topics covered\n",
        "\n",
        "* You will get introduced to the essential components that go into constructing and training neural networks\n",
        "\n",
        "* You will be introduced to the linear regression problem and how it can be solved using stochastic gradient descent.\n",
        "\n",
        "* You will learn how to construct the most straightforward classification neural network using softmax operation (activation function). You will also learn about the cross-entropy loss function\n",
        "\n",
        "**Concepts Learned:** linear regression, model, train, mini-batches, *stochastic* gradient search, epochs, hyperparamters, softmax, activation function, cross-entropy loss function, squared loss function, fully connected layer, classification accuracy, python data iterator."
      ]
    },
    {
      "cell_type": "markdown",
      "metadata": {
        "id": "sX45y8hRcv5D"
      },
      "source": [
        "## Code: setup"
      ]
    },
    {
      "cell_type": "code",
      "metadata": {
        "id": "9Lx279YSMDwk",
        "colab": {
          "base_uri": "https://localhost:8080/"
        },
        "outputId": "9c9a3b45-d5e3-4620-fb92-e8bfc8ac85ec"
      },
      "source": [
        "!pip install d2l==0.16.2"
      ],
      "execution_count": 1,
      "outputs": [
        {
          "output_type": "stream",
          "name": "stdout",
          "text": [
            "Collecting d2l==0.16.2\n",
            "  Downloading d2l-0.16.2-py3-none-any.whl (77 kB)\n",
            "\u001b[?25l     \u001b[90m━━━━━━━━━━━━━━━━━━━━━━━━━━━━━━━━━━━━━━━━\u001b[0m \u001b[32m0.0/77.2 kB\u001b[0m \u001b[31m?\u001b[0m eta \u001b[36m-:--:--\u001b[0m\r\u001b[2K     \u001b[90m━━━━━━━━━━━━━━━━━━━━━━━━━━━━━━━━━━━━━━━━\u001b[0m \u001b[32m77.2/77.2 kB\u001b[0m \u001b[31m2.9 MB/s\u001b[0m eta \u001b[36m0:00:00\u001b[0m\n",
            "\u001b[?25hCollecting jupyter (from d2l==0.16.2)\n",
            "  Downloading jupyter-1.0.0-py2.py3-none-any.whl (2.7 kB)\n",
            "Requirement already satisfied: numpy in /usr/local/lib/python3.10/dist-packages (from d2l==0.16.2) (1.23.5)\n",
            "Requirement already satisfied: matplotlib in /usr/local/lib/python3.10/dist-packages (from d2l==0.16.2) (3.7.1)\n",
            "Requirement already satisfied: requests in /usr/local/lib/python3.10/dist-packages (from d2l==0.16.2) (2.31.0)\n",
            "Requirement already satisfied: pandas in /usr/local/lib/python3.10/dist-packages (from d2l==0.16.2) (1.5.3)\n",
            "Requirement already satisfied: notebook in /usr/local/lib/python3.10/dist-packages (from jupyter->d2l==0.16.2) (6.5.5)\n",
            "Collecting qtconsole (from jupyter->d2l==0.16.2)\n",
            "  Downloading qtconsole-5.4.4-py3-none-any.whl (121 kB)\n",
            "\u001b[2K     \u001b[90m━━━━━━━━━━━━━━━━━━━━━━━━━━━━━━━━━━━━━━━\u001b[0m \u001b[32m121.9/121.9 kB\u001b[0m \u001b[31m8.4 MB/s\u001b[0m eta \u001b[36m0:00:00\u001b[0m\n",
            "\u001b[?25hRequirement already satisfied: jupyter-console in /usr/local/lib/python3.10/dist-packages (from jupyter->d2l==0.16.2) (6.1.0)\n",
            "Requirement already satisfied: nbconvert in /usr/local/lib/python3.10/dist-packages (from jupyter->d2l==0.16.2) (6.5.4)\n",
            "Requirement already satisfied: ipykernel in /usr/local/lib/python3.10/dist-packages (from jupyter->d2l==0.16.2) (5.5.6)\n",
            "Requirement already satisfied: ipywidgets in /usr/local/lib/python3.10/dist-packages (from jupyter->d2l==0.16.2) (7.7.1)\n",
            "Requirement already satisfied: contourpy>=1.0.1 in /usr/local/lib/python3.10/dist-packages (from matplotlib->d2l==0.16.2) (1.1.0)\n",
            "Requirement already satisfied: cycler>=0.10 in /usr/local/lib/python3.10/dist-packages (from matplotlib->d2l==0.16.2) (0.11.0)\n",
            "Requirement already satisfied: fonttools>=4.22.0 in /usr/local/lib/python3.10/dist-packages (from matplotlib->d2l==0.16.2) (4.42.1)\n",
            "Requirement already satisfied: kiwisolver>=1.0.1 in /usr/local/lib/python3.10/dist-packages (from matplotlib->d2l==0.16.2) (1.4.5)\n",
            "Requirement already satisfied: packaging>=20.0 in /usr/local/lib/python3.10/dist-packages (from matplotlib->d2l==0.16.2) (23.1)\n",
            "Requirement already satisfied: pillow>=6.2.0 in /usr/local/lib/python3.10/dist-packages (from matplotlib->d2l==0.16.2) (9.4.0)\n",
            "Requirement already satisfied: pyparsing>=2.3.1 in /usr/local/lib/python3.10/dist-packages (from matplotlib->d2l==0.16.2) (3.1.1)\n",
            "Requirement already satisfied: python-dateutil>=2.7 in /usr/local/lib/python3.10/dist-packages (from matplotlib->d2l==0.16.2) (2.8.2)\n",
            "Requirement already satisfied: pytz>=2020.1 in /usr/local/lib/python3.10/dist-packages (from pandas->d2l==0.16.2) (2023.3.post1)\n",
            "Requirement already satisfied: charset-normalizer<4,>=2 in /usr/local/lib/python3.10/dist-packages (from requests->d2l==0.16.2) (3.2.0)\n",
            "Requirement already satisfied: idna<4,>=2.5 in /usr/local/lib/python3.10/dist-packages (from requests->d2l==0.16.2) (3.4)\n",
            "Requirement already satisfied: urllib3<3,>=1.21.1 in /usr/local/lib/python3.10/dist-packages (from requests->d2l==0.16.2) (2.0.4)\n",
            "Requirement already satisfied: certifi>=2017.4.17 in /usr/local/lib/python3.10/dist-packages (from requests->d2l==0.16.2) (2023.7.22)\n",
            "Requirement already satisfied: six>=1.5 in /usr/local/lib/python3.10/dist-packages (from python-dateutil>=2.7->matplotlib->d2l==0.16.2) (1.16.0)\n",
            "Requirement already satisfied: ipython-genutils in /usr/local/lib/python3.10/dist-packages (from ipykernel->jupyter->d2l==0.16.2) (0.2.0)\n",
            "Requirement already satisfied: ipython>=5.0.0 in /usr/local/lib/python3.10/dist-packages (from ipykernel->jupyter->d2l==0.16.2) (7.34.0)\n",
            "Requirement already satisfied: traitlets>=4.1.0 in /usr/local/lib/python3.10/dist-packages (from ipykernel->jupyter->d2l==0.16.2) (5.7.1)\n",
            "Requirement already satisfied: jupyter-client in /usr/local/lib/python3.10/dist-packages (from ipykernel->jupyter->d2l==0.16.2) (6.1.12)\n",
            "Requirement already satisfied: tornado>=4.2 in /usr/local/lib/python3.10/dist-packages (from ipykernel->jupyter->d2l==0.16.2) (6.3.2)\n",
            "Requirement already satisfied: widgetsnbextension~=3.6.0 in /usr/local/lib/python3.10/dist-packages (from ipywidgets->jupyter->d2l==0.16.2) (3.6.5)\n",
            "Requirement already satisfied: jupyterlab-widgets>=1.0.0 in /usr/local/lib/python3.10/dist-packages (from ipywidgets->jupyter->d2l==0.16.2) (3.0.8)\n",
            "Requirement already satisfied: prompt-toolkit!=3.0.0,!=3.0.1,<3.1.0,>=2.0.0 in /usr/local/lib/python3.10/dist-packages (from jupyter-console->jupyter->d2l==0.16.2) (3.0.39)\n",
            "Requirement already satisfied: pygments in /usr/local/lib/python3.10/dist-packages (from jupyter-console->jupyter->d2l==0.16.2) (2.16.1)\n",
            "Requirement already satisfied: lxml in /usr/local/lib/python3.10/dist-packages (from nbconvert->jupyter->d2l==0.16.2) (4.9.3)\n",
            "Requirement already satisfied: beautifulsoup4 in /usr/local/lib/python3.10/dist-packages (from nbconvert->jupyter->d2l==0.16.2) (4.11.2)\n",
            "Requirement already satisfied: bleach in /usr/local/lib/python3.10/dist-packages (from nbconvert->jupyter->d2l==0.16.2) (6.0.0)\n",
            "Requirement already satisfied: defusedxml in /usr/local/lib/python3.10/dist-packages (from nbconvert->jupyter->d2l==0.16.2) (0.7.1)\n",
            "Requirement already satisfied: entrypoints>=0.2.2 in /usr/local/lib/python3.10/dist-packages (from nbconvert->jupyter->d2l==0.16.2) (0.4)\n",
            "Requirement already satisfied: jinja2>=3.0 in /usr/local/lib/python3.10/dist-packages (from nbconvert->jupyter->d2l==0.16.2) (3.1.2)\n",
            "Requirement already satisfied: jupyter-core>=4.7 in /usr/local/lib/python3.10/dist-packages (from nbconvert->jupyter->d2l==0.16.2) (5.3.1)\n",
            "Requirement already satisfied: jupyterlab-pygments in /usr/local/lib/python3.10/dist-packages (from nbconvert->jupyter->d2l==0.16.2) (0.2.2)\n",
            "Requirement already satisfied: MarkupSafe>=2.0 in /usr/local/lib/python3.10/dist-packages (from nbconvert->jupyter->d2l==0.16.2) (2.1.3)\n",
            "Requirement already satisfied: mistune<2,>=0.8.1 in /usr/local/lib/python3.10/dist-packages (from nbconvert->jupyter->d2l==0.16.2) (0.8.4)\n",
            "Requirement already satisfied: nbclient>=0.5.0 in /usr/local/lib/python3.10/dist-packages (from nbconvert->jupyter->d2l==0.16.2) (0.8.0)\n",
            "Requirement already satisfied: nbformat>=5.1 in /usr/local/lib/python3.10/dist-packages (from nbconvert->jupyter->d2l==0.16.2) (5.9.2)\n",
            "Requirement already satisfied: pandocfilters>=1.4.1 in /usr/local/lib/python3.10/dist-packages (from nbconvert->jupyter->d2l==0.16.2) (1.5.0)\n",
            "Requirement already satisfied: tinycss2 in /usr/local/lib/python3.10/dist-packages (from nbconvert->jupyter->d2l==0.16.2) (1.2.1)\n",
            "Requirement already satisfied: pyzmq<25,>=17 in /usr/local/lib/python3.10/dist-packages (from notebook->jupyter->d2l==0.16.2) (23.2.1)\n",
            "Requirement already satisfied: argon2-cffi in /usr/local/lib/python3.10/dist-packages (from notebook->jupyter->d2l==0.16.2) (23.1.0)\n",
            "Requirement already satisfied: nest-asyncio>=1.5 in /usr/local/lib/python3.10/dist-packages (from notebook->jupyter->d2l==0.16.2) (1.5.7)\n",
            "Requirement already satisfied: Send2Trash>=1.8.0 in /usr/local/lib/python3.10/dist-packages (from notebook->jupyter->d2l==0.16.2) (1.8.2)\n",
            "Requirement already satisfied: terminado>=0.8.3 in /usr/local/lib/python3.10/dist-packages (from notebook->jupyter->d2l==0.16.2) (0.17.1)\n",
            "Requirement already satisfied: prometheus-client in /usr/local/lib/python3.10/dist-packages (from notebook->jupyter->d2l==0.16.2) (0.17.1)\n",
            "Requirement already satisfied: nbclassic>=0.4.7 in /usr/local/lib/python3.10/dist-packages (from notebook->jupyter->d2l==0.16.2) (1.0.0)\n",
            "Collecting qtpy>=2.4.0 (from qtconsole->jupyter->d2l==0.16.2)\n",
            "  Downloading QtPy-2.4.0-py3-none-any.whl (93 kB)\n",
            "\u001b[2K     \u001b[90m━━━━━━━━━━━━━━━━━━━━━━━━━━━━━━━━━━━━━━━━\u001b[0m \u001b[32m93.4/93.4 kB\u001b[0m \u001b[31m6.7 MB/s\u001b[0m eta \u001b[36m0:00:00\u001b[0m\n",
            "\u001b[?25hRequirement already satisfied: setuptools>=18.5 in /usr/local/lib/python3.10/dist-packages (from ipython>=5.0.0->ipykernel->jupyter->d2l==0.16.2) (67.7.2)\n",
            "Collecting jedi>=0.16 (from ipython>=5.0.0->ipykernel->jupyter->d2l==0.16.2)\n",
            "  Downloading jedi-0.19.0-py2.py3-none-any.whl (1.6 MB)\n",
            "\u001b[2K     \u001b[90m━━━━━━━━━━━━━━━━━━━━━━━━━━━━━━━━━━━━━━━━\u001b[0m \u001b[32m1.6/1.6 MB\u001b[0m \u001b[31m20.0 MB/s\u001b[0m eta \u001b[36m0:00:00\u001b[0m\n",
            "\u001b[?25hRequirement already satisfied: decorator in /usr/local/lib/python3.10/dist-packages (from ipython>=5.0.0->ipykernel->jupyter->d2l==0.16.2) (4.4.2)\n",
            "Requirement already satisfied: pickleshare in /usr/local/lib/python3.10/dist-packages (from ipython>=5.0.0->ipykernel->jupyter->d2l==0.16.2) (0.7.5)\n",
            "Requirement already satisfied: backcall in /usr/local/lib/python3.10/dist-packages (from ipython>=5.0.0->ipykernel->jupyter->d2l==0.16.2) (0.2.0)\n",
            "Requirement already satisfied: matplotlib-inline in /usr/local/lib/python3.10/dist-packages (from ipython>=5.0.0->ipykernel->jupyter->d2l==0.16.2) (0.1.6)\n",
            "Requirement already satisfied: pexpect>4.3 in /usr/local/lib/python3.10/dist-packages (from ipython>=5.0.0->ipykernel->jupyter->d2l==0.16.2) (4.8.0)\n",
            "Requirement already satisfied: platformdirs>=2.5 in /usr/local/lib/python3.10/dist-packages (from jupyter-core>=4.7->nbconvert->jupyter->d2l==0.16.2) (3.10.0)\n",
            "Requirement already satisfied: jupyter-server>=1.8 in /usr/local/lib/python3.10/dist-packages (from nbclassic>=0.4.7->notebook->jupyter->d2l==0.16.2) (1.24.0)\n",
            "Requirement already satisfied: notebook-shim>=0.2.3 in /usr/local/lib/python3.10/dist-packages (from nbclassic>=0.4.7->notebook->jupyter->d2l==0.16.2) (0.2.3)\n",
            "Requirement already satisfied: fastjsonschema in /usr/local/lib/python3.10/dist-packages (from nbformat>=5.1->nbconvert->jupyter->d2l==0.16.2) (2.18.0)\n",
            "Requirement already satisfied: jsonschema>=2.6 in /usr/local/lib/python3.10/dist-packages (from nbformat>=5.1->nbconvert->jupyter->d2l==0.16.2) (4.19.0)\n",
            "Requirement already satisfied: wcwidth in /usr/local/lib/python3.10/dist-packages (from prompt-toolkit!=3.0.0,!=3.0.1,<3.1.0,>=2.0.0->jupyter-console->jupyter->d2l==0.16.2) (0.2.6)\n",
            "Requirement already satisfied: ptyprocess in /usr/local/lib/python3.10/dist-packages (from terminado>=0.8.3->notebook->jupyter->d2l==0.16.2) (0.7.0)\n",
            "Requirement already satisfied: argon2-cffi-bindings in /usr/local/lib/python3.10/dist-packages (from argon2-cffi->notebook->jupyter->d2l==0.16.2) (21.2.0)\n",
            "Requirement already satisfied: soupsieve>1.2 in /usr/local/lib/python3.10/dist-packages (from beautifulsoup4->nbconvert->jupyter->d2l==0.16.2) (2.5)\n",
            "Requirement already satisfied: webencodings in /usr/local/lib/python3.10/dist-packages (from bleach->nbconvert->jupyter->d2l==0.16.2) (0.5.1)\n",
            "Requirement already satisfied: parso<0.9.0,>=0.8.3 in /usr/local/lib/python3.10/dist-packages (from jedi>=0.16->ipython>=5.0.0->ipykernel->jupyter->d2l==0.16.2) (0.8.3)\n",
            "Requirement already satisfied: attrs>=22.2.0 in /usr/local/lib/python3.10/dist-packages (from jsonschema>=2.6->nbformat>=5.1->nbconvert->jupyter->d2l==0.16.2) (23.1.0)\n",
            "Requirement already satisfied: jsonschema-specifications>=2023.03.6 in /usr/local/lib/python3.10/dist-packages (from jsonschema>=2.6->nbformat>=5.1->nbconvert->jupyter->d2l==0.16.2) (2023.7.1)\n",
            "Requirement already satisfied: referencing>=0.28.4 in /usr/local/lib/python3.10/dist-packages (from jsonschema>=2.6->nbformat>=5.1->nbconvert->jupyter->d2l==0.16.2) (0.30.2)\n",
            "Requirement already satisfied: rpds-py>=0.7.1 in /usr/local/lib/python3.10/dist-packages (from jsonschema>=2.6->nbformat>=5.1->nbconvert->jupyter->d2l==0.16.2) (0.10.2)\n",
            "Requirement already satisfied: anyio<4,>=3.1.0 in /usr/local/lib/python3.10/dist-packages (from jupyter-server>=1.8->nbclassic>=0.4.7->notebook->jupyter->d2l==0.16.2) (3.7.1)\n",
            "Requirement already satisfied: websocket-client in /usr/local/lib/python3.10/dist-packages (from jupyter-server>=1.8->nbclassic>=0.4.7->notebook->jupyter->d2l==0.16.2) (1.6.2)\n",
            "Requirement already satisfied: cffi>=1.0.1 in /usr/local/lib/python3.10/dist-packages (from argon2-cffi-bindings->argon2-cffi->notebook->jupyter->d2l==0.16.2) (1.15.1)\n",
            "Requirement already satisfied: sniffio>=1.1 in /usr/local/lib/python3.10/dist-packages (from anyio<4,>=3.1.0->jupyter-server>=1.8->nbclassic>=0.4.7->notebook->jupyter->d2l==0.16.2) (1.3.0)\n",
            "Requirement already satisfied: exceptiongroup in /usr/local/lib/python3.10/dist-packages (from anyio<4,>=3.1.0->jupyter-server>=1.8->nbclassic>=0.4.7->notebook->jupyter->d2l==0.16.2) (1.1.3)\n",
            "Requirement already satisfied: pycparser in /usr/local/lib/python3.10/dist-packages (from cffi>=1.0.1->argon2-cffi-bindings->argon2-cffi->notebook->jupyter->d2l==0.16.2) (2.21)\n",
            "Installing collected packages: qtpy, jedi, qtconsole, jupyter, d2l\n",
            "Successfully installed d2l-0.16.2 jedi-0.19.0 jupyter-1.0.0 qtconsole-5.4.4 qtpy-2.4.0\n"
          ]
        }
      ]
    },
    {
      "cell_type": "code",
      "metadata": {
        "origin_pos": 2,
        "tab": [
          "pytorch"
        ],
        "id": "iL0wRD35MDwo"
      },
      "source": [
        "import matplotlib.pyplot as plt\n",
        "import torch\n",
        "import torchvision\n",
        "from torch import nn\n",
        "from torch.nn import functional as F\n"
      ],
      "execution_count": 2,
      "outputs": []
    },
    {
      "cell_type": "markdown",
      "metadata": {
        "id": "FR3moTlMllHM"
      },
      "source": [
        "# Linear Regression\n",
        "\n",
        "* *Regression* refers to a set of methods for modeling the relationship between one or more **independent** variables and a **dependent** variable or the **predicted** variable.\n",
        "\n",
        "* Examples: local images features (e.g., color values) to label objects in images;  video to label action type;  face image to label emotions\n",
        "\n",
        "\n",
        "* We will implement the entire method from scratch, including\n",
        "\n",
        "    1. the data pipeline,\n",
        "    2. the model,\n",
        "    3. the loss function, and\n",
        "    4. the minibatch stochastic gradient descent optimizer.\n",
        "\n",
        "* For now, we will rely only on tensors and auto differentiation. Afterward, we will introduce a more straightforward implementation, taking advantage of the bells and whistles of deep learning frameworks.\n"
      ]
    },
    {
      "cell_type": "markdown",
      "metadata": {
        "id": "6ZheEvSMrJsV"
      },
      "source": [
        "## Generating the Dataset\n",
        "\n",
        "* We construct an artificial dataset according to a linear model with additive noise.\n",
        "\n",
        "* Our task will be to recover this model's parameters using the finite set of examples in our dataset.\n",
        "\n",
        "* In the following code snippet, we generate a dataset, $\\mathbf{X}$, containing 1000 examples, each consisting of 2 features sampled from a standard normal distribution. Thus our synthetic dataset will be a $1000 \\times 2$ matrix.\n",
        "\n",
        "* This input data is transformed linearly using\n",
        "\n",
        "\\begin{equation}\n",
        "\\mathbf{y}= \\mathbf{X} \\mathbf{w} + b + \\mathbf\\epsilon\n",
        "\\end{equation}\n",
        "\n",
        "* $\\mathbf{w} = [2, -3.4]^\\top$ and $b = 4.2$,\n",
        "and $\\epsilon$ captures potential measurement errors on the features and labels.\n",
        "\n",
        "* We will assume that the standard assumptions hold and thus\n",
        "that $\\epsilon$ obeys a normal distribution with a mean of 0.\n",
        "    * To make our problem easy, we will set its standard deviation to 0.01.\n"
      ]
    },
    {
      "cell_type": "markdown",
      "metadata": {
        "id": "3crxqNpQ4enq"
      },
      "source": [
        "###Code: `generate_synthetic_data`"
      ]
    },
    {
      "cell_type": "code",
      "metadata": {
        "id": "DXeMz5634duL"
      },
      "source": [
        "def generate_synthetic_data (w, b, num_examples):\n",
        "    \"\"\"Generate y = Xw + b + noise.\"\"\"\n",
        "    X = torch.normal(0, 1, (num_examples, len(w)))\n",
        "    y = torch.matmul(X, w) + b\n",
        "    y += torch.normal(0, 0.01, y.shape)\n",
        "    return X, y.reshape((-1, 1))\n",
        "\n",
        "true_w = torch.tensor([2, -3.4])\n",
        "true_b = 4.2\n",
        "features, labels = generate_synthetic_data (true_w, true_b, 1000)"
      ],
      "execution_count": 4,
      "outputs": []
    },
    {
      "cell_type": "code",
      "source": [
        "features.size()"
      ],
      "metadata": {
        "id": "VGgJmrpzAe0F",
        "outputId": "0505c54c-2060-4da2-a982-a101cb95bf12",
        "colab": {
          "base_uri": "https://localhost:8080/"
        }
      },
      "execution_count": 5,
      "outputs": [
        {
          "output_type": "execute_result",
          "data": {
            "text/plain": [
              "torch.Size([1000, 2])"
            ]
          },
          "metadata": {},
          "execution_count": 5
        }
      ]
    },
    {
      "cell_type": "markdown",
      "metadata": {
        "origin_pos": 8,
        "id": "k9pAKYylleRa"
      },
      "source": [
        "* **Note that each row in `features` consists of a 2-dimensional data example and that each row in `labels` consists of a 1-dimensional label value (a scalar).**\n"
      ]
    },
    {
      "cell_type": "code",
      "metadata": {
        "origin_pos": 9,
        "tab": [
          "pytorch"
        ],
        "id": "DotgEvroleRc",
        "colab": {
          "base_uri": "https://localhost:8080/"
        },
        "outputId": "34c769ee-9083-4a27-8f63-ebcb0d8fd5f2"
      },
      "source": [
        "print('First 10 features:\\n', features[1:10,:], '\\nFirst 10 labels:\\n', labels[1:10])"
      ],
      "execution_count": 6,
      "outputs": [
        {
          "output_type": "stream",
          "name": "stdout",
          "text": [
            "First 10 features:\n",
            " tensor([[ 1.2221,  0.5372],\n",
            "        [ 1.4228,  0.4576],\n",
            "        [-0.6984, -0.5055],\n",
            "        [ 0.2280,  0.6175],\n",
            "        [ 1.7191, -0.7174],\n",
            "        [-1.6621,  0.5776],\n",
            "        [ 1.5501,  0.3772],\n",
            "        [-0.0956,  0.1393],\n",
            "        [-0.9308, -0.6321]]) \n",
            "First 10 labels:\n",
            " tensor([[ 4.8310],\n",
            "        [ 5.5026],\n",
            "        [ 4.5068],\n",
            "        [ 2.5506],\n",
            "        [10.0801],\n",
            "        [-1.0856],\n",
            "        [ 6.0176],\n",
            "        [ 3.5284],\n",
            "        [ 4.4928]])\n"
          ]
        }
      ]
    },
    {
      "cell_type": "markdown",
      "metadata": {
        "origin_pos": 10,
        "id": "UK0wmpQkleRd"
      },
      "source": [
        "* **Observe the linear correlation between the input and the output.**\n"
      ]
    },
    {
      "cell_type": "code",
      "metadata": {
        "origin_pos": 11,
        "tab": [
          "pytorch"
        ],
        "id": "rrAF-IArleRe",
        "colab": {
          "base_uri": "https://localhost:8080/",
          "height": 465
        },
        "outputId": "a682778e-e90c-4377-cdfc-a72383e9b331"
      },
      "source": [
        "fig, ax = plt.subplots(nrows=1, ncols=2)\n",
        "fig.set_size_inches (10, 5)\n",
        "\n",
        "ax[0].scatter(features[:, 0].detach().numpy(),\n",
        "                labels.detach().numpy(), c='b')\n",
        "ax[0].set_xlabel('Dimension 0 of input')\n",
        "ax[0].set_ylabel('Output label')\n",
        "\n",
        "ax[1].scatter(features[:, 1].detach().numpy(),\n",
        "                labels.detach().numpy(), c='r')\n",
        "ax[1].set_xlabel('Dimension 1 of input')\n",
        "ax[1].set_ylabel('Output label');"
      ],
      "execution_count": 7,
      "outputs": [
        {
          "output_type": "display_data",
          "data": {
            "text/plain": [
              "<Figure size 1000x500 with 2 Axes>"
            ],
            "image/png": "[encoded data removed]"
          },
          "metadata": {}
        }
      ]
    },
    {
      "cell_type": "markdown",
      "metadata": {
        "origin_pos": 12,
        "id": "vQSl67GWleRf"
      },
      "source": [
        "## Reading the Dataset\n",
        "\n",
        "* Estimating the linear model parameters from the training data involve iterations over the dataset.\n",
        "\n",
        "* Recall how **gradient descent** or Newton's method (with Hessian) worked for 2D perspective transformation (homography) estimation.\n",
        "\n",
        "    * At each iteration, we computed a gradient value based on the **entire** dataset.\n",
        "\n",
        "* Here, we adopt **stochastic** gradient descent, which works well in practice.\n",
        "\n",
        "    * Instead of considering the entire dataset at each iteration, we\n",
        "form many subsets of the data and use the subsets to update our model, one at a time.\n",
        "\n",
        "* We break the dataset into **mini-batches**, each consisting of **batch size** number of data samples. Each minibatch consists of a tuple of input features and labels.\n",
        "\n",
        "    * At each iteration, we compute the gradient based on one minibatch at a time.\n",
        "\n",
        "    * Updates from the different subsets of the data are randomly varying, which gives its name *stochastic*.\n",
        "\n",
        "    *  Minibatches sizes depend on available GPU hardware. We can also compute the gradient of the loss function for each example in parallel; GPUs allow us to process hundreds of inputs in scarcely more time than it might take to process just a single sample.\n",
        "\n",
        "* Since this process is so fundamental to training machine learning algorithms,\n",
        "it is worth defining a utility function to shuffle the dataset and access it in mini-batches.\n",
        "\n",
        "    * In the following code, we define the **`data_iter` function** to demonstrate one possible implementation of this functionality. The function takes a **batch size, a matrix of features, and a vector of labels, yielding mini-batches of the size `batch_size.`**\n"
      ]
    },
    {
      "cell_type": "markdown",
      "metadata": {
        "id": "m4M0m4ONFjIE"
      },
      "source": [
        "### Code: Some python background about iterators, generators\n",
        "\n",
        "* An iterator in Python is an object that contains a finite number of elements that can be iterated upon, i.e. go through the ordered collection  one element at a time.\n",
        "\n",
        "* A generator is a special type of function which returns an iterator object.  *It can be run only once*."
      ]
    },
    {
      "cell_type": "code",
      "metadata": {
        "colab": {
          "base_uri": "https://localhost:8080/"
        },
        "id": "U7AHd6rgF4lC",
        "outputId": "f2ed293b-6b9c-465b-f78e-732e510b46ea"
      },
      "source": [
        "'''\n",
        "Some python background about iterators, generators, and yield that we will use.\n",
        "Example taken from https://stackoverflow.com/questions/231767/what-does-the-yield-keyword-do\n",
        "'''\n",
        "mylist = [1, 2, 3]\n",
        "for i in mylist:\n",
        "    print(i)"
      ],
      "execution_count": 8,
      "outputs": [
        {
          "output_type": "stream",
          "name": "stdout",
          "text": [
            "1\n",
            "2\n",
            "3\n"
          ]
        }
      ]
    },
    {
      "cell_type": "code",
      "metadata": {
        "colab": {
          "base_uri": "https://localhost:8080/"
        },
        "id": "itZOWPXvElME",
        "outputId": "79dfcc94-519f-41d0-fd6e-38baf567daac"
      },
      "source": [
        "# --------Iterator object--------------------\n",
        "# An iterator in Python is an object that contains a finite number of\n",
        "# elements that can be iterated upon, i.e. go through the ordered collection\n",
        "# one element at a time.\n",
        "\n",
        "print('Iterator output (first run):')\n",
        "mylist = [x*x for x in range(3)]\n",
        "for i in mylist:\n",
        "    print(i)\n",
        "\n",
        "print('Iterator output (second run):')\n",
        "for i in mylist:\n",
        "    print(i)\n"
      ],
      "execution_count": 9,
      "outputs": [
        {
          "output_type": "stream",
          "name": "stdout",
          "text": [
            "Iterator output (first run):\n",
            "0\n",
            "1\n",
            "4\n",
            "Iterator output (second run):\n",
            "0\n",
            "1\n",
            "4\n"
          ]
        }
      ]
    },
    {
      "cell_type": "code",
      "metadata": {
        "colab": {
          "base_uri": "https://localhost:8080/"
        },
        "id": "YN9mgDLwEr3U",
        "outputId": "2e7db4b9-352e-41ed-c4e1-f640288f75c6"
      },
      "source": [
        "# ---------Generator object--------------------\n",
        "# A generator is a special type of function which returns an iterator object.\n",
        "# Can be run only once.\n",
        "\n",
        "mygenerator = (x*x for x in range(3))\n",
        "\"note the use of parenthesis instead of brackets\"\n",
        "print('Mygenerator created using yield is:', mygenerator) # mygenerator is an object!\n",
        "\n",
        "print('Generator output (first run):')\n",
        "for i in mygenerator:\n",
        "    print(i)\n",
        "\n",
        "print('Generator output (second run):')\n",
        "for i in mygenerator:\n",
        "    print(i)"
      ],
      "execution_count": 10,
      "outputs": [
        {
          "output_type": "stream",
          "name": "stdout",
          "text": [
            "Mygenerator created using yield is: <generator object <genexpr> at 0x78189e342c00>\n",
            "Generator output (first run):\n",
            "0\n",
            "1\n",
            "4\n",
            "Generator output (second run):\n"
          ]
        }
      ]
    },
    {
      "cell_type": "code",
      "metadata": {
        "colab": {
          "base_uri": "https://localhost:8080/"
        },
        "id": "jxNVbCg6Eu_G",
        "outputId": "a2dc94fd-57a7-4307-df88-563af43b4475"
      },
      "source": [
        "#-----------Yield returns generator object--------\n",
        "# In a generator function, a \"yield\" statement is used rather than a \"return\" statement.\n",
        "# You use generators to create your own iterators.\n",
        "# Can be run only once.\n",
        "\n",
        "def create_generator():\n",
        "    mylist = range(3)\n",
        "    for i in mylist:\n",
        "        yield i*i\n",
        "\n",
        "mygenerator = create_generator() # create a generator\n",
        "print('Mygenerator created using yield is:', mygenerator) # mygenerator is an object!\n",
        "for i in mygenerator:\n",
        "    print(i)\n",
        "\n",
        "print('Mygenerator created using yield is (second run):', mygenerator) # mygenerator is an object!\n",
        "for i in mygenerator:\n",
        "    print(i)\n"
      ],
      "execution_count": 11,
      "outputs": [
        {
          "output_type": "stream",
          "name": "stdout",
          "text": [
            "Mygenerator created using yield is: <generator object create_generator at 0x78189bdc77d0>\n",
            "0\n",
            "1\n",
            "4\n",
            "Mygenerator created using yield is (second run): <generator object create_generator at 0x78189bdc77d0>\n"
          ]
        }
      ]
    },
    {
      "cell_type": "markdown",
      "metadata": {
        "id": "-o9v1HNoBCd3"
      },
      "source": [
        "### Code: `data_iter` over randomized minibatches"
      ]
    },
    {
      "cell_type": "code",
      "metadata": {
        "origin_pos": 13,
        "tab": [
          "pytorch"
        ],
        "id": "0wdEZkZ1leRg",
        "colab": {
          "base_uri": "https://localhost:8080/",
          "height": 35
        },
        "outputId": "bce62553-9a1e-4bdf-d391-163429cc535f"
      },
      "source": [
        "import numpy as np\n",
        "\n",
        "# Generator function over the data\n",
        "def data_iter (batch_size, features, labels):\n",
        "    num_examples = features.shape[0]\n",
        "    # We randomly shuffle the data in the beginning so breakup any bias induced due to order of data\n",
        "    indices = np.random.permutation (num_examples)\n",
        "    for i in range(0, num_examples, batch_size):\n",
        "        batch_indices = torch.tensor(indices[i:min(i + batch_size, num_examples)])\n",
        "        yield features[batch_indices], labels[batch_indices]\n",
        "\" notice yield above\""
      ],
      "execution_count": 12,
      "outputs": [
        {
          "output_type": "execute_result",
          "data": {
            "text/plain": [
              "' notice yield above'"
            ],
            "application/vnd.google.colaboratory.intrinsic+json": {
              "type": "string"
            }
          },
          "metadata": {},
          "execution_count": 12
        }
      ]
    },
    {
      "cell_type": "markdown",
      "metadata": {
        "origin_pos": 15,
        "id": "-Pnl_waBleRi"
      },
      "source": [
        "* To build some intuition, let us read and print\n",
        "the first small batch of data examples.\n",
        "The shape of the features in each minibatch tells us\n",
        "both the minibatch size and the number of input features.\n",
        "Likewise, our minibatch of labels will have a shape given by `batch_size`.\n",
        "\n",
        "\n",
        "* As we run the iteration, we obtain distinct mini-batches\n",
        "successively until the entire dataset has been exhausted (try this).\n",
        "\n",
        "\n",
        "* This method works but is inefficient, requiring that we load all the data in memory and perform lots of random memory access. **The built-in iterators implemented in a deep learning framework are considerably more efficient and can deal with data stored in files and data fed via data streams.** We will get introduced to them later.\n",
        "\n"
      ]
    },
    {
      "cell_type": "code",
      "metadata": {
        "origin_pos": 16,
        "tab": [
          "pytorch"
        ],
        "id": "EPfwb4-LleRj",
        "colab": {
          "base_uri": "https://localhost:8080/"
        },
        "outputId": "57ebe14c-cc31-49f1-a5ba-25a85278b90c"
      },
      "source": [
        "batch_size = 11\n",
        "# print first batch and then exit.\n",
        "i = 1\n",
        "for X, y in data_iter(batch_size, features, labels):\n",
        "    print(i, X.size())\n",
        "    i = i+1\n"
      ],
      "execution_count": 13,
      "outputs": [
        {
          "output_type": "stream",
          "name": "stdout",
          "text": [
            "1 torch.Size([11, 2])\n",
            "2 torch.Size([11, 2])\n",
            "3 torch.Size([11, 2])\n",
            "4 torch.Size([11, 2])\n",
            "5 torch.Size([11, 2])\n",
            "6 torch.Size([11, 2])\n",
            "7 torch.Size([11, 2])\n",
            "8 torch.Size([11, 2])\n",
            "9 torch.Size([11, 2])\n",
            "10 torch.Size([11, 2])\n",
            "11 torch.Size([11, 2])\n",
            "12 torch.Size([11, 2])\n",
            "13 torch.Size([11, 2])\n",
            "14 torch.Size([11, 2])\n",
            "15 torch.Size([11, 2])\n",
            "16 torch.Size([11, 2])\n",
            "17 torch.Size([11, 2])\n",
            "18 torch.Size([11, 2])\n",
            "19 torch.Size([11, 2])\n",
            "20 torch.Size([11, 2])\n",
            "21 torch.Size([11, 2])\n",
            "22 torch.Size([11, 2])\n",
            "23 torch.Size([11, 2])\n",
            "24 torch.Size([11, 2])\n",
            "25 torch.Size([11, 2])\n",
            "26 torch.Size([11, 2])\n",
            "27 torch.Size([11, 2])\n",
            "28 torch.Size([11, 2])\n",
            "29 torch.Size([11, 2])\n",
            "30 torch.Size([11, 2])\n",
            "31 torch.Size([11, 2])\n",
            "32 torch.Size([11, 2])\n",
            "33 torch.Size([11, 2])\n",
            "34 torch.Size([11, 2])\n",
            "35 torch.Size([11, 2])\n",
            "36 torch.Size([11, 2])\n",
            "37 torch.Size([11, 2])\n",
            "38 torch.Size([11, 2])\n",
            "39 torch.Size([11, 2])\n",
            "40 torch.Size([11, 2])\n",
            "41 torch.Size([11, 2])\n",
            "42 torch.Size([11, 2])\n",
            "43 torch.Size([11, 2])\n",
            "44 torch.Size([11, 2])\n",
            "45 torch.Size([11, 2])\n",
            "46 torch.Size([11, 2])\n",
            "47 torch.Size([11, 2])\n",
            "48 torch.Size([11, 2])\n",
            "49 torch.Size([11, 2])\n",
            "50 torch.Size([11, 2])\n",
            "51 torch.Size([11, 2])\n",
            "52 torch.Size([11, 2])\n",
            "53 torch.Size([11, 2])\n",
            "54 torch.Size([11, 2])\n",
            "55 torch.Size([11, 2])\n",
            "56 torch.Size([11, 2])\n",
            "57 torch.Size([11, 2])\n",
            "58 torch.Size([11, 2])\n",
            "59 torch.Size([11, 2])\n",
            "60 torch.Size([11, 2])\n",
            "61 torch.Size([11, 2])\n",
            "62 torch.Size([11, 2])\n",
            "63 torch.Size([11, 2])\n",
            "64 torch.Size([11, 2])\n",
            "65 torch.Size([11, 2])\n",
            "66 torch.Size([11, 2])\n",
            "67 torch.Size([11, 2])\n",
            "68 torch.Size([11, 2])\n",
            "69 torch.Size([11, 2])\n",
            "70 torch.Size([11, 2])\n",
            "71 torch.Size([11, 2])\n",
            "72 torch.Size([11, 2])\n",
            "73 torch.Size([11, 2])\n",
            "74 torch.Size([11, 2])\n",
            "75 torch.Size([11, 2])\n",
            "76 torch.Size([11, 2])\n",
            "77 torch.Size([11, 2])\n",
            "78 torch.Size([11, 2])\n",
            "79 torch.Size([11, 2])\n",
            "80 torch.Size([11, 2])\n",
            "81 torch.Size([11, 2])\n",
            "82 torch.Size([11, 2])\n",
            "83 torch.Size([11, 2])\n",
            "84 torch.Size([11, 2])\n",
            "85 torch.Size([11, 2])\n",
            "86 torch.Size([11, 2])\n",
            "87 torch.Size([11, 2])\n",
            "88 torch.Size([11, 2])\n",
            "89 torch.Size([11, 2])\n",
            "90 torch.Size([11, 2])\n",
            "91 torch.Size([10, 2])\n"
          ]
        }
      ]
    },
    {
      "cell_type": "markdown",
      "metadata": {
        "origin_pos": 17,
        "id": "lptGUv1yleRk"
      },
      "source": [
        "## Initializing model parameters\n",
        "\n",
        "**Before we can begin optimizing our model's parameters** by minibatch stochastic gradient descent, (**we need to have some parameters in the first place.**). In the following code, we initialize weights by sampling random numbers from a normal distribution with a mean of 0 and a standard deviation of 0.01 and setting the bias to 0.\n"
      ]
    },
    {
      "cell_type": "markdown",
      "metadata": {
        "id": "8sWckmB9hFrY"
      },
      "source": [
        "### Code: Initialize parameters (`w, b`)"
      ]
    },
    {
      "cell_type": "code",
      "metadata": {
        "origin_pos": 19,
        "tab": [
          "pytorch"
        ],
        "id": "vQBOJlKSleRl",
        "colab": {
          "base_uri": "https://localhost:8080/"
        },
        "outputId": "7745a45a-63ca-4e28-94bf-cc18a12e3bb9"
      },
      "source": [
        "w = torch.normal(0, 0.01, size=(2, 1), requires_grad=True)\n",
        "b = torch.zeros(1, requires_grad=True)\n",
        "print('weights:\\n', w, '\\nb=\\n', b)"
      ],
      "execution_count": 14,
      "outputs": [
        {
          "output_type": "stream",
          "name": "stdout",
          "text": [
            "weights:\n",
            " tensor([[ 0.0086],\n",
            "        [-0.0072]], requires_grad=True) \n",
            "b=\n",
            " tensor([0.], requires_grad=True)\n"
          ]
        }
      ]
    },
    {
      "cell_type": "markdown",
      "metadata": {
        "id": "ggL2jabTTldk"
      },
      "source": [
        "* After initializing our parameters, our next task is to update them until they fit our data sufficiently well.\n",
        "\n",
        "* Each update requires taking the gradient of our loss function with respect to the parameters.\n",
        "\n",
        "* To compute gradients explicitly, we use automatic differentiation to compute the gradient.\n"
      ]
    },
    {
      "cell_type": "markdown",
      "metadata": {
        "origin_pos": 21,
        "id": "c469aNSjleRl"
      },
      "source": [
        "## Defining the Model\n",
        "\n",
        "* Next, we must **define our model, relating its inputs and parameters to its outputs.**\n",
        "\n",
        "* To calculate the output of the linear model, we take the matrix-vector dot product of the input features $\\mathbf{X}$ and the model weights $\\mathbf{w}$, and add the offset $b$ to each example.\n",
        "\n",
        "* The product $\\mathbf{Xw}$  is a vector, and $b$ is a scalar.\n",
        "    * We will use the *broadcasting* feature to add the scalar.\n"
      ]
    },
    {
      "cell_type": "markdown",
      "metadata": {
        "id": "bYSVVLHK9aQG"
      },
      "source": [
        "![image.png](data:image/png;base64,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)"
      ]
    },
    {
      "cell_type": "markdown",
      "metadata": {
        "id": "zkJDTKFhUthw"
      },
      "source": [
        "### Code: `linreg`: The linear regression model"
      ]
    },
    {
      "cell_type": "code",
      "metadata": {
        "origin_pos": 22,
        "tab": [
          "pytorch"
        ],
        "id": "sujiqus-leRl"
      },
      "source": [
        "def linreg(X, w, b):\n",
        "    \"\"\"The linear regression model.\"\"\"\n",
        "    # X is N by d, where N is the number of data elements, d is the dimension of the data\n",
        "    # w is a d by 1 vector of parameters\n",
        "    return torch.matmul(X, w) + b"
      ],
      "execution_count": 15,
      "outputs": []
    },
    {
      "cell_type": "markdown",
      "metadata": {
        "origin_pos": 23,
        "id": "Y7qEJAEaleRm"
      },
      "source": [
        "## Defining the Loss Function\n",
        "\n",
        "* Since updating our model requires taking the gradient of our loss function, we ought to (**define the loss function next**)\n",
        "\n",
        "* We will use the **squared loss** function (**squared residuals**)\n",
        "\n",
        "* Note that we do **not** sum the residuals yet. The function returns the residuals for **each** data point of the input.\n",
        "\n",
        "* Some python implementation issue: although both `y` and `y_hat` are just a vector of numbers, they might be represented as 1D ($[n]$ sized) or as 2D ($[n,1]$ sized) arrays. We have to reshape one to fit the other.\n",
        "\n",
        "* The result returned by the following function will also have the same shape as `y_hat`.\n",
        "\n"
      ]
    },
    {
      "cell_type": "markdown",
      "metadata": {
        "id": "g_da04EUhU7P"
      },
      "source": [
        "### Code: `squared_loss` function"
      ]
    },
    {
      "cell_type": "code",
      "metadata": {
        "origin_pos": 24,
        "tab": [
          "pytorch"
        ],
        "id": "2I_CFWlZleRn"
      },
      "source": [
        "def squared_loss(y_hat, y):\n",
        "    \"\"\"Squared loss.\"\"\"\n",
        "    # although both y and y_hat are just a vector of numbers,\n",
        "    # they might be represented as [n] or as [n,1] arrays.\n",
        "    # that is what we have to reshape one to fit the other.\n",
        "    # Another option would have been to squeeze out the \"1\" dimension\n",
        "    return (y_hat - y.reshape(y_hat.shape))**2 / 2"
      ],
      "execution_count": 16,
      "outputs": []
    },
    {
      "cell_type": "markdown",
      "metadata": {
        "origin_pos": 25,
        "id": "iwxYBKOdleRn"
      },
      "source": [
        "## Stochastic gradient descent -- the optimization algorithm\n",
        "\n",
        "* For each minibatch of `batch_size`,\n",
        "\n",
        "    1. Estimate the gradient of the loss with respect to our parameters.\n",
        "    2. Update the parameters (`params`) in the direction that may reduce the loss based on a learning rate (`lr`). Because we calculate our loss as a sum over the minibatch of examples, we normalize our step size by the batch size (`batch_size`), so that the magnitude of a typical step size\n",
        "does not depend heavily on our choice of the batch size."
      ]
    },
    {
      "cell_type": "markdown",
      "metadata": {
        "id": "cubF2iRnhcbd"
      },
      "source": [
        "###Code: `stochastic_gradient_descent` function"
      ]
    },
    {
      "cell_type": "code",
      "metadata": {
        "origin_pos": 27,
        "tab": [
          "pytorch"
        ],
        "id": "DIpuIjQileRn"
      },
      "source": [
        "def stochastic_gradient_descent (params, lr, batch_size):\n",
        "    \"\"\"Minibatch stochastic gradient descent.\"\"\"\n",
        "    with torch.no_grad():\n",
        "        for param in params:\n",
        "            param -= lr * param.grad / batch_size\n",
        "            param.grad.zero_()"
      ],
      "execution_count": 17,
      "outputs": []
    },
    {
      "cell_type": "markdown",
      "metadata": {
        "origin_pos": 29,
        "id": "bDM_pedOleRo"
      },
      "source": [
        "## Training\n",
        "\n",
        "* Now that we have all the parts in place, we are ready **to implement the main training loop**.\n",
        "\n",
        "* It is crucial that you understand this code because you will see nearly identical training loops repeatedly throughout your career in deep learning.\n",
        "\n",
        "* Initialize parameters $(\\mathbf{w}, b)$\n",
        "* At each iteration over the mini-batches of the *entire* dataset\n",
        "    1. We will grab a minibatch of training examples,\n",
        "    2. Pass minibatch through the model to obtain a set of predictions.\n",
        "    3. Calculate the loss,\n",
        "    3. Compute gradient $\\mathbf{g} \\leftarrow \\partial_{(\\mathbf{w},b)} \\frac{1}{|\\mathcal{B}|} \\sum_{i \\in \\mathcal{B}} l(\\mathbf{x}^{(i)}, y^{(i)}, \\mathbf{w}, b)$\n",
        "        * Initiate the backward pass through the network, computing and storing the gradients with respect to each parameter.\n",
        "    5. Call `stochastic_gradient_descent` to update the model parameters.\n",
        "        * Update parameters $(\\mathbf{w}, b) \\leftarrow (\\mathbf{w}, b) - \\eta \\mathbf{g}$\n",
        "\n",
        "* Each pass (using the `data_iter` function) through the dataset is called one **epoch**. To optimize, we need **multiple epochs**\n",
        "\n",
        "* The number of epochs `num_epochs` and the learning rate `lr` are both **hyperparameters**, which we set here to 3 and 0.03, respectively.\n",
        "\n",
        "* Unfortunately, setting hyperparameters is tricky.\n",
        "Moreover, it requires some adjustment by trial and error.\n"
      ]
    },
    {
      "cell_type": "markdown",
      "metadata": {
        "id": "8yLvIxWmfPrc"
      },
      "source": [
        "###Code: Training"
      ]
    },
    {
      "cell_type": "code",
      "metadata": {
        "origin_pos": 30,
        "tab": [
          "pytorch"
        ],
        "id": "XlUvPlhcleRo",
        "colab": {
          "base_uri": "https://localhost:8080/"
        },
        "outputId": "167652af-132e-49d7-a642-0a5b0c665240"
      },
      "source": [
        "lr = 0.03 # learning rate\n",
        "num_epochs = 10 # number of passes through the entire dataset\n",
        "batch_size = 10\n",
        "net = linreg\n",
        "loss = squared_loss\n",
        "print('Initial w=\\n', w, '\\nInitial b=\\n', b)\n",
        "print('True w=\\n', true_w, '\\nTrue b=\\n', true_b)\n"
      ],
      "execution_count": 18,
      "outputs": [
        {
          "output_type": "stream",
          "name": "stdout",
          "text": [
            "Initial w=\n",
            " tensor([[ 0.0086],\n",
            "        [-0.0072]], requires_grad=True) \n",
            "Initial b=\n",
            " tensor([0.], requires_grad=True)\n",
            "True w=\n",
            " tensor([ 2.0000, -3.4000]) \n",
            "True b=\n",
            " 4.2\n"
          ]
        }
      ]
    },
    {
      "cell_type": "code",
      "metadata": {
        "origin_pos": 32,
        "tab": [
          "pytorch"
        ],
        "id": "8aGqIgDwleRp",
        "colab": {
          "base_uri": "https://localhost:8080/"
        },
        "outputId": "a8911e02-c9a6-45b8-d55b-b7e6d9ee55e1"
      },
      "source": [
        "for epoch in range(num_epochs):\n",
        "    for X, y in data_iter(batch_size, features, labels):\n",
        "        l = loss(net(X, w, b), y)  # Minibatch loss in `X` and `y`\n",
        "        # Compute gradient on `l` with respect to [`w`, `b`]\n",
        "\n",
        "        l.sum().backward()\n",
        "\n",
        "        stochastic_gradient_descent([w, b], lr, batch_size)  # Update parameters using their gradient\n",
        "\n",
        "    with torch.no_grad():\n",
        "        train_l = loss(net(features, w, b), labels)\n",
        "        #print('\\nw=\\n', w, '\\nb=\\n', b)\n",
        "        print(f'epoch {epoch + 1}, w= {w.numpy().transpose()}, b= {b.numpy()}, loss {float(train_l.mean()):f}',)\n"
      ],
      "execution_count": 19,
      "outputs": [
        {
          "output_type": "stream",
          "name": "stdout",
          "text": [
            "epoch 1, w= [[ 1.9586987 -3.242708 ]], b= [4.0188565], loss 0.030404\n",
            "epoch 2, w= [[ 2.0002077 -3.3929346]], b= [4.1918755], loss 0.000110\n",
            "epoch 3, w= [[ 2.0006409 -3.4000928]], b= [4.199799], loss 0.000049\n",
            "epoch 4, w= [[ 2.0002313 -3.4003437]], b= [4.199756], loss 0.000048\n",
            "epoch 5, w= [[ 2.0003974 -3.4005167]], b= [4.2002077], loss 0.000048\n",
            "epoch 6, w= [[ 2.0004327 -3.4002538]], b= [4.1999335], loss 0.000048\n",
            "epoch 7, w= [[ 2.0003245 -3.4005017]], b= [4.199876], loss 0.000048\n",
            "epoch 8, w= [[ 2.0003724 -3.4001908]], b= [4.1999693], loss 0.000048\n",
            "epoch 9, w= [[ 2.0004184 -3.4002445]], b= [4.199811], loss 0.000048\n",
            "epoch 10, w= [[ 2.0000982 -3.4003506]], b= [4.1999736], loss 0.000048\n"
          ]
        }
      ]
    },
    {
      "cell_type": "markdown",
      "metadata": {
        "origin_pos": 34,
        "id": "3cP_8-7QleRq"
      },
      "source": [
        "In this case, because we synthesized the dataset ourselves, we precisely know the true parameters. Thus, we can **evaluate our success in training by comparing the true parameters with those that we learned** through our training loop. Indeed they turn out to be very close to each other.\n"
      ]
    },
    {
      "cell_type": "code",
      "metadata": {
        "origin_pos": 35,
        "tab": [
          "pytorch"
        ],
        "id": "OXw7O_sdleRq",
        "colab": {
          "base_uri": "https://localhost:8080/"
        },
        "outputId": "05f5a9dd-19f3-4563-a656-2086593087d1"
      },
      "source": [
        "print(f'error in estimating w: {true_w - w.reshape(true_w.shape)}')\n",
        "print(f'error in estimating b: {true_b - b}')"
      ],
      "execution_count": 20,
      "outputs": [
        {
          "output_type": "stream",
          "name": "stdout",
          "text": [
            "error in estimating w: tensor([-9.8228e-05,  3.5048e-04], grad_fn=<SubBackward0>)\n",
            "error in estimating b: tensor([2.6226e-05], grad_fn=<RsubBackward1>)\n"
          ]
        }
      ]
    },
    {
      "cell_type": "markdown",
      "metadata": {
        "origin_pos": 36,
        "id": "beQUGGAHleRr"
      },
      "source": [
        "* Note that we should not take it for granted that we can recover the parameters perfectly. However, in machine learning, we are typically less concerned with recovering true underlying parameters and more concerned with parameters that lead to highly accurate predictions. Fortunately, even on complex optimization problems, stochastic gradient descent can often find remarkably good solutions, owing partly to the fact that, for deep networks, there exist many configurations of the parameters that lead to highly accurate predictions.\n"
      ]
    },
    {
      "cell_type": "markdown",
      "metadata": {
        "id": "3SPENOIgiNbF"
      },
      "source": [
        "## Summary\n",
        "\n",
        "* We saw how a deep network could be implemented and optimized from scratch, using just tensors and auto differentiation.\n",
        "\n",
        "* This section only scratches the surface of what is possible. In the following sections, we will describe additional models based on the concepts we have just introduced and learn how to implement them more concisely.\n"
      ]
    },
    {
      "cell_type": "markdown",
      "metadata": {
        "id": "4nueC0ADiPoQ"
      },
      "source": [
        "# Assignment\n",
        "\n",
        "1. Why is the `reshape` function needed in the `squared_loss` function? Try removing the `reshape` function and see.\n",
        "2. What would happen if we were to initialize the weights to zero. Would the algorithm still work? Report the results with zero-initialization and compare with random.\n",
        "3. Experiment with 3 different learning rates to find out how fast the loss function value drops.\n",
        "4. If the number of examples cannot be divided by the batch size, what happens to the `data_iter` function's behavior?"
      ]
    },
    {
      "cell_type": "markdown",
      "metadata": {
        "id": "cGWjARwa8_Yd"
      },
      "source": [
        "![image.png](data:image/png;base64,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)"
      ]
    },
    {
      "cell_type": "markdown",
      "metadata": {
        "id": "vtTj5t4mgtBy"
      },
      "source": [
        "# Fully connected, single-layer, softmax network for classification\n",
        "\n",
        "* Consider the **classification problem**: given the feature of dimension  $d$, we have to label each data item with one of 3 labels.\n",
        "    * For example, given a $N \\times N$ image, i.e. input dimension $d = N^2$, figure out the state of the light, red, green, or orange.\n",
        "\n",
        "* The output layer has multiple outputs, one per class.\n",
        "\n",
        "* Each output is connected to all the inputs. Hence, we have a **fully connected layer**.\n",
        "\n",
        "\\begin{eqnarray}\n",
        "o_1 &= & x_1 w_{11} + \\cdots + x_d w_{1d} + b_1\\\\\n",
        "o_2 &= & x_1 w_{21} + \\cdots + x_d w_{2d} + b_2\\\\\n",
        "\\vdots & = &  \\vdots \\\\\n",
        "o_k &= & x_1 w_{k1} + \\cdots + x_d w_{kd} + b_k\n",
        "\\end{eqnarray}\n",
        "\n",
        "\n",
        "* More compactly, we can use linear algebra notation.\n",
        "\n",
        "\\begin{equation}\n",
        "\\mathbf{o} = \\mathbf{W} \\mathbf{x} + \\mathbf{b}\n",
        "\\end{equation}\n",
        "\n",
        ">* A matrix-vector product of the weights by the input features plus our **biases** $\\mathbf{b}$ results in the output.\n",
        ">* What is the total number of unknown parameters for a fully connected layer with an input of dimension $d$ and $k$ outputs?\n",
        ">* Also referred to as **logits**\n",
        "\n",
        "* Note that is an **affine transformation** of the inputs."
      ]
    },
    {
      "cell_type": "markdown",
      "metadata": {
        "id": "AHCOMYrLYhXw"
      },
      "source": [
        "![image.png](data:image/png;base64,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)"
      ]
    },
    {
      "cell_type": "markdown",
      "metadata": {
        "id": "VHmqdlvRkQgO"
      },
      "source": [
        "## Softmax operation\n",
        "\n",
        "* Nothing constrains the output from summing to 1. The outputs can take on negative values too.\n",
        "\n",
        "* We would like each output to be a probability, i.e., a number between 0 and 1, that denotes the probability of the corresponding label for any given input.\n",
        "Ideally, only one of the outputs will be near 1, and the rest will be near 0.\n",
        "\n",
        "* We need to transform this output layer into a final output that is guaranteed (even on new data) to be nonnegative and sum to 1.\n",
        "\n",
        "* We also need a loss function that encourages the model to estimate probabilities faithfully. Of all instances when a classifier outputs 0.5, we hope that half of those examples will belong to the predicted class.\n",
        "This is a property called **calibration**.\n",
        "\n",
        "* The **softmax function**, invented in 1959 by the social scientist R. Duncan Luce in the context of *choice models*, does precisely this.\n",
        "\n",
        "\\begin{equation}\n",
        "\\hat{\\mathbf{y}} = \\mathrm{softmax}(\\mathbf{o})\\quad \\text{where}\\quad \\hat{y}_j = \\frac{\\exp(o_j)}{\\sum_k \\exp(o_k)}\n",
        "\\end{equation}\n",
        "\n",
        "* It is easy to see $\\hat{y}_1 + \\hat{y}_2 + \\hat{y}_3 = 1$\n",
        "with $0 \\leq \\hat{y}_j \\leq 1$ for all $j$.\n",
        "Thus, $\\hat{\\mathbf{y}}$ behaves like a probabilities.\n",
        "\n",
        "* Note that the softmax operation does not change the ordering among the logits $\\mathbf{o}$,\n",
        "which are simply the pre-softmax values\n",
        "that determine the probabilities assigned to each class.\n",
        "Therefore, during prediction, we can still pick out the most likely class by\n",
        "\n",
        "$$\n",
        "\\operatorname*{argmax}_j \\hat y_j = \\operatorname*{argmax}_j o_j.\n",
        "$$\n",
        "\n",
        "* Although softmax is a nonlinear function, the outputs of softmax regression are still *determined* by an affine transformation of input features;\n"
      ]
    },
    {
      "cell_type": "markdown",
      "metadata": {
        "id": "2oewb9NFmogO"
      },
      "source": [
        "## Vectorization for mini-batch\n",
        "\n",
        "* To improve computational efficiency and take advantage of GPUs, we typically carry out vector calculations for mini-batches of data.\n",
        "\n",
        "* Let  $\\mathbf{X}$ be $n \\times d$ matrix representing a minibatch of examples with feature dimensionality (number of inputs) $d$ and batch size $n$.\n",
        "\n",
        "* Then, weights $\\mathbf{W}$ is a ${d \\times q}$ matrix\n",
        "and the bias is a ${1\\times q}$ vector $\\mathbf{b}$.\n",
        "\n",
        "* The fully connected layer with softmax can compute outputs for **all** inputs in a minibatch **simultaneously** using matrix multiply. No for-loops needed.\n",
        "\n",
        "\\begin{equation}\n",
        "\\begin{aligned} \\mathbf{O}^{n \\times q} &= \\mathbf{X}^{n \\times d} \\mathbf{W}^{d \\times q} + \\mathbf{b}^{1\\times q}, \\\\\n",
        "\\hat{\\mathbf{Y}} & = \\mathrm{softmax}(\\mathbf{O}). \\end{aligned}\n",
        "\\end{equation}\n",
        "\n",
        "* [Broadcasting](https://numpy.org/doc/stable/user/basics.broadcasting.html) is triggered during the summation $\\mathbf{X} \\mathbf{W} + \\mathbf{b}$, both the minibatch $\\mathbf{O}$ and output probabilities $\\hat{\\mathbf{Y}}$ are $n \\times q$ matrices.\n",
        "\n"
      ]
    },
    {
      "cell_type": "markdown",
      "metadata": {
        "id": "okUEMTI6nRMP"
      },
      "source": [
        "## Loss Function -- Cross entropy\n",
        "\n",
        "\n",
        "* Squared difference error is not the appropriate error/residual/loss function to optimize. We use an error function that is appropriate for probability distributions -- **cross-entropy**.\n",
        "\n",
        "* The softmax function gives us a vector $\\hat{\\mathbf{y}}$, which we can interpret as estimated probabilities of each class given any input $\\mathbf{x}$, e.g., $\\hat{y}_1$ = $P(y=\\text{cat} \\mid \\mathbf{x})$.\n",
        "\n",
        "* Suppose that the entire dataset $\\{\\mathbf{X}, \\mathbf{Y}\\}$ has $n$ examples,\n",
        "where the example indexed by $i$ consists of a feature vector $\\mathbf{x}^{(i)}$ and a **one-hot label vector** $\\mathbf{y}^{(i)}$, i.e., an all-zero vector with one entry equal to 1 corresponding to the position denoting the label.\n",
        "\n",
        "* We can compare the estimates with labels by checking how probable the actual classes are according to our model, given the features:\n",
        "\n",
        "\\begin{equation}\n",
        "P(\\mathbf{Y} \\mid \\mathbf{X}) = \\prod_{i=1}^n P(\\mathbf{y}^{(i)} \\mid \\mathbf{x}^{(i)})\n",
        "\\end{equation}\n",
        "\n",
        "* According to maximum likelihood estimation,\n",
        "we maximize $P(\\mathbf{Y} \\mid \\mathbf{X})$,\n",
        "which is\n",
        "equivalent to minimizing the negative log-likelihood:\n",
        "\n",
        "$$\n",
        "-\\log P(\\mathbf{Y} \\mid \\mathbf{X}) = \\sum_{i=1}^n -\\log P(\\mathbf{y}^{(i)} \\mid \\mathbf{x}^{(i)})\n",
        "= \\sum_{i=1}^n l(\\mathbf{y}^{(i)}, \\hat{\\mathbf{y}}^{(i)}),\n",
        "$$\n",
        "\n",
        "> where for any pair of label $\\mathbf{y}$ and model prediction $\\hat{\\mathbf{y}}$ over $q$ classes,\n",
        "the loss function $l$ is\n",
        "\n",
        "\\begin{equation}\n",
        "l(\\mathbf{y}, \\hat{\\mathbf{y}}) = - \\sum_{j=1}^q y_j \\log \\hat{y}_j\n",
        "\\end{equation}\n",
        "\n",
        "\n",
        "* This loss function is commonly called the **cross-entropy loss**.\n",
        "\n",
        "* $\\mathbf{y}$ is a **one-hot vector** of length $q$\n",
        "    * so, the sum over all its coordinates $j$ vanishes for all but one term.\n",
        "\n",
        "* Since all $\\hat{y}_j$ are predicted probabilities, their logarithm is never larger than $0$.\n",
        "\n",
        "* Consequently, the loss function cannot be minimized any further\n",
        "if we correctly predict the actual label with *certainty*,\n",
        "i.e., if the predicted probability $P(\\mathbf{y} \\mid \\mathbf{x}) = 1$ for the actual label $\\mathbf{y}$.\n"
      ]
    },
    {
      "cell_type": "markdown",
      "metadata": {
        "id": "m_dWgaVYYvVL"
      },
      "source": [
        "![image.png](data:image/png;base64,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)"
      ]
    },
    {
      "cell_type": "markdown",
      "metadata": {
        "id": "N8Yxppe-P8QA"
      },
      "source": [
        "## Summary of Model\n",
        "\n",
        "* Let  $\\mathbf{X}$ be $n \\times d$ matrix representing a minibatch of examples with feature dimensionality (number of inputs) $d$ and batch size $n$.\n",
        "\n",
        "* Then, weights $\\mathbf{W}$ is a ${d \\times q}$ matrix\n",
        "and the bias is a ${1\\times q}$ vector $\\mathbf{b}$.\n",
        "\n",
        "* The fully connected layer with softmax can compute outputs for **all** inputs in a minibatch **simultaneously** using matrix multiply. No for-loops needed.\n",
        "\n",
        "\\begin{equation}\n",
        "\\begin{aligned} \\mathbf{O} &= \\mathbf{X} \\mathbf{W} + \\mathbf{b}, \\\\ \\hat{\\mathbf{Y}} & = \\mathrm{softmax}(\\mathbf{O}). \\end{aligned}\n",
        "\\end{equation}\n",
        "\n",
        "* This loss function is commonly called the **cross-entropy loss**.\n",
        "\n",
        "\n",
        "\\begin{equation}\n",
        "l(\\mathbf{y}, \\hat{\\mathbf{y}}) = - \\sum_{j=1}^q y_j \\log \\hat{y}_j\n",
        "\\end{equation}\n"
      ]
    },
    {
      "cell_type": "markdown",
      "metadata": {
        "origin_pos": 0,
        "id": "MIWrDTsdqWqy"
      },
      "source": [
        "## Implementation of softmax regression\n",
        "\n",
        "* Just as we implemented linear regression from scratch, we believe that softmax regression is similarly fundamental, and you ought to know the gory details of softmax regression and how to implement it yourself.\n",
        "\n",
        "* We will work with the [Fashion-MNIST dataset](https://github.com/zalandoresearch/fashion-mnist), setting up a data iterator with batch size 256.\n"
      ]
    },
    {
      "cell_type": "markdown",
      "metadata": {
        "id": "2Xqqn9s1oCB8"
      },
      "source": [
        "###Code: ReadFashion MSNIST data (`train_iter, test_iter`)"
      ]
    },
    {
      "cell_type": "code",
      "metadata": {
        "origin_pos": 2,
        "tab": [
          "pytorch"
        ],
        "id": "NZZ6kp1tqWq3"
      },
      "source": [
        "import torch\n",
        "from IPython import display\n",
        "from d2l import torch as d2l"
      ],
      "execution_count": 21,
      "outputs": []
    },
    {
      "cell_type": "code",
      "metadata": {
        "origin_pos": 4,
        "tab": [
          "pytorch"
        ],
        "id": "DPzYcAwOqWq7",
        "colab": {
          "base_uri": "https://localhost:8080/"
        },
        "outputId": "a21daf76-2d94-4305-f4d9-c6d0b5c740b1"
      },
      "source": [
        "batch_size = 256\n",
        "train_iter, test_iter = d2l.load_data_fashion_mnist(batch_size)\n",
        "\n",
        "for X, y in train_iter:\n",
        "    print('Each element of train_iter has: X=',  X.shape, 'y=', y.shape)\n",
        "    break\n",
        "\n",
        "for X, y in test_iter:\n",
        "    print('Each element of test_iter  has: X=', X.shape, 'y=', y.shape)\n",
        "\n",
        "    print(' We will reshape X before use into =', X.reshape((-1, 784)).shape)\n",
        "    break\n"
      ],
      "execution_count": 22,
      "outputs": [
        {
          "output_type": "stream",
          "name": "stdout",
          "text": [
            "Downloading http://fashion-mnist.s3-website.eu-central-1.amazonaws.com/train-images-idx3-ubyte.gz\n",
            "Downloading http://fashion-mnist.s3-website.eu-central-1.amazonaws.com/train-images-idx3-ubyte.gz to ../data/FashionMNIST/raw/train-images-idx3-ubyte.gz\n"
          ]
        },
        {
          "output_type": "stream",
          "name": "stderr",
          "text": [
            "100%|██████████| 26421880/26421880 [00:00<00:00, 110604059.99it/s]\n"
          ]
        },
        {
          "output_type": "stream",
          "name": "stdout",
          "text": [
            "Extracting ../data/FashionMNIST/raw/train-images-idx3-ubyte.gz to ../data/FashionMNIST/raw\n",
            "\n",
            "Downloading http://fashion-mnist.s3-website.eu-central-1.amazonaws.com/train-labels-idx1-ubyte.gz\n",
            "Downloading http://fashion-mnist.s3-website.eu-central-1.amazonaws.com/train-labels-idx1-ubyte.gz to ../data/FashionMNIST/raw/train-labels-idx1-ubyte.gz\n"
          ]
        },
        {
          "output_type": "stream",
          "name": "stderr",
          "text": [
            "100%|██████████| 29515/29515 [00:00<00:00, 5924050.46it/s]\n"
          ]
        },
        {
          "output_type": "stream",
          "name": "stdout",
          "text": [
            "Extracting ../data/FashionMNIST/raw/train-labels-idx1-ubyte.gz to ../data/FashionMNIST/raw\n",
            "\n",
            "Downloading http://fashion-mnist.s3-website.eu-central-1.amazonaws.com/t10k-images-idx3-ubyte.gz\n",
            "Downloading http://fashion-mnist.s3-website.eu-central-1.amazonaws.com/t10k-images-idx3-ubyte.gz to ../data/FashionMNIST/raw/t10k-images-idx3-ubyte.gz\n"
          ]
        },
        {
          "output_type": "stream",
          "name": "stderr",
          "text": [
            "100%|██████████| 4422102/4422102 [00:00<00:00, 65461181.02it/s]\n"
          ]
        },
        {
          "output_type": "stream",
          "name": "stdout",
          "text": [
            "Extracting ../data/FashionMNIST/raw/t10k-images-idx3-ubyte.gz to ../data/FashionMNIST/raw\n",
            "\n",
            "Downloading http://fashion-mnist.s3-website.eu-central-1.amazonaws.com/t10k-labels-idx1-ubyte.gz\n",
            "Downloading http://fashion-mnist.s3-website.eu-central-1.amazonaws.com/t10k-labels-idx1-ubyte.gz to ../data/FashionMNIST/raw/t10k-labels-idx1-ubyte.gz\n"
          ]
        },
        {
          "output_type": "stream",
          "name": "stderr",
          "text": [
            "100%|██████████| 5148/5148 [00:00<00:00, 5630319.95it/s]\n"
          ]
        },
        {
          "output_type": "stream",
          "name": "stdout",
          "text": [
            "Extracting ../data/FashionMNIST/raw/t10k-labels-idx1-ubyte.gz to ../data/FashionMNIST/raw\n",
            "\n"
          ]
        },
        {
          "output_type": "stream",
          "name": "stderr",
          "text": [
            "/usr/local/lib/python3.10/dist-packages/torch/utils/data/dataloader.py:560: UserWarning: This DataLoader will create 4 worker processes in total. Our suggested max number of worker in current system is 2, which is smaller than what this DataLoader is going to create. Please be aware that excessive worker creation might get DataLoader running slow or even freeze, lower the worker number to avoid potential slowness/freeze if necessary.\n",
            "  warnings.warn(_create_warning_msg(\n"
          ]
        },
        {
          "output_type": "stream",
          "name": "stdout",
          "text": [
            "Each element of train_iter has: X= torch.Size([256, 1, 28, 28]) y= torch.Size([256])\n",
            "Each element of test_iter  has: X= torch.Size([256, 1, 28, 28]) y= torch.Size([256])\n",
            " We will reshape X before use into = torch.Size([256, 784])\n"
          ]
        }
      ]
    },
    {
      "cell_type": "markdown",
      "metadata": {
        "origin_pos": 5,
        "id": "V8v_wSlPqWq8"
      },
      "source": [
        "## Defining the fully connected (FC) layer\n",
        "\n",
        "* As in our linear regression example, each example here will be represented by a fixed-length vector. Each example in the raw dataset is a $28 \\times 28$ image. In this section, **we will flatten each image, treating them as vectors of length 784.** In the future, we will talk about more sophisticated strategies for exploiting the spatial structure in images, but for now, we treat each pixel location as just another feature.\n",
        "\n",
        "* Recall that in softmax regression, we have as many outputs as there are classes. **Because our dataset has 10 classes, our network will have an output dimension of 10.** Consequently, our weights will constitute a $784 \\times 10$ matrix and the biases will constitute a $1 \\times 10$ row vector. As with linear regression, we will initialize our weights `W` with Gaussian noise and our biases to take the initial value 0.\n"
      ]
    },
    {
      "cell_type": "markdown",
      "metadata": {
        "id": "oCC3yB0ppC3X"
      },
      "source": [
        "### Code: Fully connected (FC) layer (`W, b`)"
      ]
    },
    {
      "cell_type": "code",
      "metadata": {
        "origin_pos": 7,
        "tab": [
          "pytorch"
        ],
        "id": "EnUQmAOMqWq8",
        "colab": {
          "base_uri": "https://localhost:8080/"
        },
        "outputId": "35cfcf27-8e3f-4380-b985-5844fb402657"
      },
      "source": [
        "num_inputs = 784\n",
        "num_outputs = 10\n",
        "\n",
        "W = torch.normal(0, 0.01, size=(num_inputs, num_outputs), requires_grad=True)\n",
        "b = torch.zeros(num_outputs, requires_grad=True)\n",
        "\n",
        "print('W shape is', W.shape, '\\nW=', W)\n",
        "print('\\nb shape is', b.shape, '\\nb=', b)"
      ],
      "execution_count": 23,
      "outputs": [
        {
          "output_type": "stream",
          "name": "stdout",
          "text": [
            "W shape is torch.Size([784, 10]) \n",
            "W= tensor([[ 0.0142,  0.0061,  0.0040,  ..., -0.0048, -0.0061, -0.0059],\n",
            "        [-0.0120,  0.0036, -0.0058,  ..., -0.0127,  0.0062,  0.0005],\n",
            "        [ 0.0032,  0.0016,  0.0045,  ..., -0.0012, -0.0083, -0.0050],\n",
            "        ...,\n",
            "        [-0.0231,  0.0144,  0.0002,  ..., -0.0095, -0.0113, -0.0113],\n",
            "        [ 0.0088, -0.0180,  0.0105,  ..., -0.0032, -0.0049,  0.0055],\n",
            "        [ 0.0162, -0.0069, -0.0055,  ..., -0.0003, -0.0231, -0.0063]],\n",
            "       requires_grad=True)\n",
            "\n",
            "b shape is torch.Size([10]) \n",
            "b= tensor([0., 0., 0., 0., 0., 0., 0., 0., 0., 0.], requires_grad=True)\n"
          ]
        }
      ]
    },
    {
      "cell_type": "markdown",
      "metadata": {
        "origin_pos": 9,
        "id": "ME8rTnvPqWq9"
      },
      "source": [
        "## Defining the softmax operation\n",
        "\n",
        "* Before implementing the softmax regression model, let us briefly review how the sum operator works along specific dimensions in a tensor. **Given a matrix `X`, we can sum over all elements (by default) or only over elements in the same axis,**, i.e., the same column (axis 0) or the same row (axis 1).\n",
        "\n",
        "* When invoking the sum operator, we can specify to keep the number of axes in the original tensor rather than collapsing out the dimension that we summed over. The result is a two-dimensional tensor with shape (1, 3).\n",
        "\n",
        "* Note that if `X` is a tensor with shape (2, 3) and we sum over the columns, the result will be a vector with shape (3,).\n"
      ]
    },
    {
      "cell_type": "code",
      "metadata": {
        "origin_pos": 10,
        "tab": [
          "pytorch"
        ],
        "id": "eWUGmp36qWq-",
        "colab": {
          "base_uri": "https://localhost:8080/"
        },
        "outputId": "bced8afd-cfb5-4ed5-8e11-2fc74258e821"
      },
      "source": [
        "X = torch.tensor([[1.0, 2.0, 3.0], [4.0, 5.0, 6.0]])\n",
        "print('X, sum over dim 0\\n', X.sum(0, keepdim=False))\n",
        "print('\\nX, sum over dim 1\\n', X.sum(0, keepdim=True))"
      ],
      "execution_count": 24,
      "outputs": [
        {
          "output_type": "stream",
          "name": "stdout",
          "text": [
            "X, sum over dim 0\n",
            " tensor([5., 7., 9.])\n",
            "\n",
            "X, sum over dim 1\n",
            " tensor([[5., 7., 9.]])\n"
          ]
        }
      ]
    },
    {
      "cell_type": "markdown",
      "metadata": {
        "origin_pos": 12,
        "id": "l3J_3JHxqWrA"
      },
      "source": [
        "* We are now ready to **implement the softmax operation**. Recall that softmax consists of three steps:\n",
        "    1. We exponentiate each term (using `exp`)\n",
        "    2. we sum over each row (we have one row per example in the batch) to get the normalization constant for each example\n",
        "    3. We divide each row by its normalization constant, ensuring that the result sums it to 1.\n",
        "\n",
        "* Before looking at the code, let us recall how this looks expressed as an equation. We are processing one minibatch at a time, so $\\mathbf{O}_{ij}$ is `batch_size` $\\times$ `output_dim` matrix, whose rows store the output vector for the corresponding training sample in the minibatch.\n",
        "\n",
        "\\begin{equation}\n",
        "\\mathrm{softmax}(\\mathbf{O})_{ij} = \\frac{\\exp(\\mathbf{O}_{ij})}{\\sum_k \\exp(\\mathbf{O}_{ik})}\n",
        "\\end{equation}\n",
        "\n",
        "* (Advanced Material:) The denominator, or normalization constant, is sometimes called the **partition function** (its logarithm is called the log-partition function). The origins of that name are in [statistical physics](https://en.wikipedia.org/wiki/Partition_function_(statistical_mechanics)), where a related equation models the distribution over an ensemble of particles.\n"
      ]
    },
    {
      "cell_type": "markdown",
      "metadata": {
        "id": "KIFvcud6n9LR"
      },
      "source": [
        "### Code: Softmax layer (`softmax`)"
      ]
    },
    {
      "cell_type": "code",
      "metadata": {
        "origin_pos": 14,
        "tab": [
          "pytorch"
        ],
        "id": "PjF75KVfqWrB"
      },
      "source": [
        "def softmax(Oh):\n",
        "    Oh_exp = torch.exp(Oh)\n",
        "    partition = Oh_exp.sum(1, keepdim=True)\n",
        "    return Oh_exp / partition  # The broadcasting mechanism is applied here"
      ],
      "execution_count": 25,
      "outputs": []
    },
    {
      "cell_type": "markdown",
      "metadata": {
        "origin_pos": 15,
        "id": "XtKo29Y1qWrC"
      },
      "source": [
        "As you can see, for any random input, we turn each element into a non-negative number. Moreover, each row sums up to 1, as is required for a probability measure.\n"
      ]
    },
    {
      "cell_type": "code",
      "metadata": {
        "origin_pos": 16,
        "tab": [
          "pytorch"
        ],
        "id": "6dyJcO3VqWrC",
        "colab": {
          "base_uri": "https://localhost:8080/"
        },
        "outputId": "ce3b5cb4-5792-475e-855b-2edc7f140d34"
      },
      "source": [
        "Oh = torch.normal(0, 1, (2, 5))\n",
        "Y_prob = softmax(Oh)\n",
        "print('Oh =\\n', Oh)\n",
        "print('Y_prob =\\n', Y_prob, '\\nSum=', Y_prob.sum(1))"
      ],
      "execution_count": 26,
      "outputs": [
        {
          "output_type": "stream",
          "name": "stdout",
          "text": [
            "Oh =\n",
            " tensor([[ 1.3479,  0.5485, -2.4009,  0.4688,  0.1085],\n",
            "        [-0.9598, -0.7806,  0.3442, -1.1599, -0.0571]])\n",
            "Y_prob =\n",
            " tensor([[0.4592, 0.2064, 0.0108, 0.1906, 0.1330],\n",
            "        [0.1091, 0.1305, 0.4020, 0.0893, 0.2691]]) \n",
            "Sum= tensor([1., 1.])\n"
          ]
        }
      ]
    },
    {
      "cell_type": "markdown",
      "metadata": {
        "origin_pos": 18,
        "id": "Fka3HSaPqWrD"
      },
      "source": [
        "## Putting together the Model\n",
        "\n",
        "Now that we have defined the softmax operation, we can **implement the softmax regression model.** The below code implements how the input is mapped to the output through the network. Note that we flatten each original image in the batch into a vector using the `reshape` function before passing the data through our model.\n"
      ]
    },
    {
      "cell_type": "markdown",
      "metadata": {
        "id": "6ZmgEm-JphJO"
      },
      "source": [
        "###Code: Model (`net`)"
      ]
    },
    {
      "cell_type": "code",
      "metadata": {
        "origin_pos": 19,
        "tab": [
          "pytorch"
        ],
        "id": "Jsu1747VqWrD"
      },
      "source": [
        "def net(X):\n",
        "    # X dimension is [256, 1, 28, 28] which we reshape into [256, 784]\n",
        "    # size of W is [784 10]\n",
        "    return softmax(torch.matmul(X.reshape((-1, W.shape[0])), W) + b)\n"
      ],
      "execution_count": 27,
      "outputs": []
    },
    {
      "cell_type": "markdown",
      "metadata": {
        "origin_pos": 20,
        "id": "NLsxa4yEqWrE"
      },
      "source": [
        "## Defining the cross-entropy loss function\n",
        "\n",
        "* Recall that cross-entropy takes the negative log-likelihood of the predicted probability assigned to the true label. We can pick all elements by a single operator rather than iterating over the predictions with a Python for-loop (which tends to be inefficient).\n",
        "\n",
        "* Below, we **create sample data `y_hat` with 2 examples of predicted probabilities over 3 classes and their corresponding labels `y`.**\n",
        "\n",
        "* With `y`, we know that in the first example, the first class is the correct prediction, and in the second example, the third class is the ground truth.\n",
        "**Using `y` as the indices of the probabilities in `y_hat`,** we pick the probability of the first class in the first example and the probability of the third class in the second example.\n"
      ]
    },
    {
      "cell_type": "code",
      "metadata": {
        "origin_pos": 21,
        "tab": [
          "pytorch"
        ],
        "id": "dr6KM3nXqWrE",
        "colab": {
          "base_uri": "https://localhost:8080/"
        },
        "outputId": "cdf5200a-108d-4df3-815d-179fe0d38056"
      },
      "source": [
        "y = torch.tensor([0, 2])\n",
        "y_hat = torch.tensor([[0.1, 0.3, 0.6],\n",
        "                      [0.3, 0.2, 0.5]])\n",
        "y_hat[[0, 1], y]"
      ],
      "execution_count": 28,
      "outputs": [
        {
          "output_type": "execute_result",
          "data": {
            "text/plain": [
              "tensor([0.1000, 0.5000])"
            ]
          },
          "metadata": {},
          "execution_count": 28
        }
      ]
    },
    {
      "cell_type": "markdown",
      "metadata": {
        "origin_pos": 23,
        "id": "Ji6tziV0qWrF"
      },
      "source": [
        "Now we can **implement the cross-entropy loss function** efficiently with just one line of code.\n"
      ]
    },
    {
      "cell_type": "markdown",
      "metadata": {
        "id": "iSgRzJ46pqFx"
      },
      "source": [
        "### Code: `cross_entropy_loss`"
      ]
    },
    {
      "cell_type": "code",
      "metadata": {
        "origin_pos": 24,
        "tab": [
          "pytorch"
        ],
        "id": "bzmEvB4xqWrF",
        "colab": {
          "base_uri": "https://localhost:8080/"
        },
        "outputId": "63c03f9e-faaa-4b68-b7ed-903a65a5691b"
      },
      "source": [
        "def cross_entropy_loss (y_hat, y):\n",
        "\n",
        "    return -torch.log(y_hat[range(len(y_hat)), y])\n",
        "    #range(len(y_hat)) creates indices 0,1,2,len-1\n",
        "\n",
        "cross_entropy_loss (y_hat, y)\n"
      ],
      "execution_count": 30,
      "outputs": [
        {
          "output_type": "execute_result",
          "data": {
            "text/plain": [
              "tensor([2.3026, 0.6931])"
            ]
          },
          "metadata": {},
          "execution_count": 30
        }
      ]
    },
    {
      "cell_type": "markdown",
      "metadata": {
        "origin_pos": 26,
        "id": "YAEnFgttqWrH"
      },
      "source": [
        "## Classification Accuracy\n",
        "\n",
        "* Given the predicted probability distribution `y_hat`, we typically choose the class with the highest predicted probability whenever we must output a hard prediction.\n",
        "\n",
        "    * Gmail must categorize an email into \"Primary\", \"Social\", \"Updates\", or \"Forums\". It might estimate probabilities internally, but it has to choose one among the classes at the end of the day.\n",
        "\n",
        "* The classification accuracy is the fraction of all correct predictions. Although it can be challenging to optimize accuracy directly (it is not differentiable), it is often the performance measure we care most about, and we will nearly always report it when training classifiers.\n",
        "\n",
        "* To compute accuracy, we do the following.\n",
        "    1. If `y_hat` is a matrix, we assume that the second dimension stores prediction scores for each class. We use `argmax` to obtain the predicted class by the index for the largest entry in each row.\n",
        "    2. We **compare the predicted class with the ground-truth `y` elementwise.** Since the equality operator `==` is sensitive to data types, we convert `y_hat`'s data type to match that of `y`. The result is a tensor containing 0 (false) and 1 (true) entries. Taking the sum yields the number of correct predictions.\n"
      ]
    },
    {
      "cell_type": "code",
      "metadata": {
        "origin_pos": 27,
        "tab": [
          "pytorch"
        ],
        "id": "6VUb9lxrqWrI"
      },
      "source": [
        "def accuracy(y_hat, y):\n",
        "    \"\"\"Compute the number of correct predictions.\"\"\"\n",
        "    if len(y_hat.shape) > 1 and y_hat.shape[1] > 1: #The output is a vector -- not just a scalar\n",
        "        y_hat = y_hat.argmax(axis=1)\n",
        "    cmp = y_hat.type(y.dtype) == y\n",
        "    return float(cmp.type(y.dtype).sum())"
      ],
      "execution_count": 31,
      "outputs": []
    },
    {
      "cell_type": "markdown",
      "metadata": {
        "origin_pos": 28,
        "id": "bYxWeexwqWrI"
      },
      "source": [
        "We will continue to use the variables `y_hat` and `y`\n",
        "defined before\n",
        "as the predicted probability distributions and labels, respectively.\n",
        "We can see that the first example's prediction class is 2\n",
        "(the largest element of the row is 0.6 with the index 2),\n",
        "which is inconsistent with the actual label, 0.\n",
        "The second example's prediction class is 2\n",
        "(the largest element of the row is 0.5 with the index of 2),\n",
        "which is consistent with the actual label, 2.\n",
        "Therefore, the classification accuracy rate for these two examples is 0.5.\n"
      ]
    },
    {
      "cell_type": "code",
      "metadata": {
        "origin_pos": 29,
        "tab": [
          "pytorch"
        ],
        "id": "k29F8SZ8qWrJ",
        "colab": {
          "base_uri": "https://localhost:8080/"
        },
        "outputId": "ad791ce6-8346-4b68-d978-3483e4dfc3cc"
      },
      "source": [
        "accuracy(y_hat, y) / len(y)"
      ],
      "execution_count": 32,
      "outputs": [
        {
          "output_type": "execute_result",
          "data": {
            "text/plain": [
              "0.5"
            ]
          },
          "metadata": {},
          "execution_count": 32
        }
      ]
    },
    {
      "cell_type": "markdown",
      "metadata": {
        "origin_pos": 30,
        "id": "_aNMVUXCqWrJ"
      },
      "source": [
        "**Similarly, we can evaluate the accuracy for any model `net` on a dataset** that is accessed via the data iterator `data_iter`.\n"
      ]
    },
    {
      "cell_type": "markdown",
      "metadata": {
        "id": "wz6FJlPNp0yx"
      },
      "source": [
        "###Code: `evaluate_accuracy`"
      ]
    },
    {
      "cell_type": "code",
      "metadata": {
        "origin_pos": 32,
        "tab": [
          "pytorch"
        ],
        "id": "97qoPEBhqWrK"
      },
      "source": [
        "def evaluate_accuracy(net, data_iter):\n",
        "    \"\"\"Compute the accuracy for a model on a dataset.\"\"\"\n",
        "    if isinstance(net, torch.nn.Module):\n",
        "        net.eval()  # Set the model to evaluation mode\n",
        "    metric = Accumulator(2)  # No. of correct predictions, no. of predictions\n",
        "\n",
        "    with torch.no_grad():\n",
        "        for X, y in data_iter: # iterate over the minibatches\n",
        "            metric.add(accuracy(net(X), y), y.numel())\n",
        "    return metric[0] / metric[1]"
      ],
      "execution_count": 33,
      "outputs": []
    },
    {
      "cell_type": "markdown",
      "metadata": {
        "origin_pos": 33,
        "id": "t1cwLD_JqWrK"
      },
      "source": [
        "* Here `Accumulator` is a utility class to accumulate sums over multiple variables.\n",
        "\n",
        "* In the above `evaluate_accuracy` function, we create 2 variables in the `Accumulator` instance to store the number of correct predictions and the number of predictions, respectively.\n",
        "\n",
        "* We  will accumulate both over time as we iterate over the dataset.\n"
      ]
    },
    {
      "cell_type": "code",
      "metadata": {
        "colab": {
          "base_uri": "https://localhost:8080/"
        },
        "id": "MOtWGowymC07",
        "outputId": "b0edecae-098f-4f5e-9a5e-e894d33fc760"
      },
      "source": [
        "[0.0] * 4"
      ],
      "execution_count": 34,
      "outputs": [
        {
          "output_type": "execute_result",
          "data": {
            "text/plain": [
              "[0.0, 0.0, 0.0, 0.0]"
            ]
          },
          "metadata": {},
          "execution_count": 34
        }
      ]
    },
    {
      "cell_type": "code",
      "metadata": {
        "origin_pos": 34,
        "tab": [
          "pytorch"
        ],
        "id": "qGBAw6b9qWrL"
      },
      "source": [
        "class Accumulator:\n",
        "    \"\"\"For accumulating sums over `n` variables.\"\"\"\n",
        "    def __init__(self, n):\n",
        "        self.data = [0.0] * n # creates [0.0, 0.0, ....n-times]\n",
        "\n",
        "    def add(self, *args):\n",
        "        self.data = [a + float(b) for a, b in zip(self.data, args)]\n",
        "        # Example: let self.data = [10, 15] and args be [3, 4]\n",
        "        # zip(self.data, args) will produce the paired iterable [(10, 3), (15, 4)]\n",
        "        # the for loop with go over these paired entries adding them up to result in [13, 19]\n",
        "\n",
        "    def reset(self):\n",
        "        self.data = [0.0] * len(self.data) # creates [0.0, 0.0, ....n-times]\n",
        "\n",
        "    def __getitem__(self, idx):\n",
        "        return self.data[idx]"
      ],
      "execution_count": 35,
      "outputs": []
    },
    {
      "cell_type": "markdown",
      "metadata": {
        "origin_pos": 35,
        "id": "jR9a7y2ZqWrL"
      },
      "source": [
        "**Because we initialized the `net` model with random weights, the accuracy of this model should be close to random guessing,** i.e., 0.1 for 10 classes.\n"
      ]
    },
    {
      "cell_type": "code",
      "metadata": {
        "origin_pos": 36,
        "tab": [
          "pytorch"
        ],
        "id": "busgI2vnqWrM",
        "colab": {
          "base_uri": "https://localhost:8080/"
        },
        "outputId": "7d507ff6-4b55-4675-d953-2d89f83e794e"
      },
      "source": [
        "evaluate_accuracy(net, test_iter)"
      ],
      "execution_count": 36,
      "outputs": [
        {
          "output_type": "execute_result",
          "data": {
            "text/plain": [
              "0.078"
            ]
          },
          "metadata": {},
          "execution_count": 36
        }
      ]
    },
    {
      "cell_type": "markdown",
      "metadata": {
        "origin_pos": 37,
        "id": "TSkjhpp3qWrM"
      },
      "source": [
        "## Training\n",
        "\n",
        "* The training loop for softmax regression should look strikingly familiar to the implementation of linear regression.\n",
        "\n",
        "* Here, we refactor the implementation to make it reusable. First, we define a function to train for one epoch. Note that `updater` is a general function to update the model parameters, which accepts the batch size as an argument.\n",
        "It can be either a wrapper of the `d2l.sgd` function or a framework's built-in optimization function.\n"
      ]
    },
    {
      "cell_type": "markdown",
      "metadata": {
        "id": "cCMTBmqBqx6U"
      },
      "source": [
        "### Code: `train_one_epoch`"
      ]
    },
    {
      "cell_type": "code",
      "metadata": {
        "origin_pos": 46,
        "tab": [
          "pytorch"
        ],
        "id": "2Vzs3N1hqWrP"
      },
      "source": [
        "def my_updater (batch_size):\n",
        "    return stochastic_gradient_descent([W, b], lr, batch_size)\n",
        "\n",
        "# we use the minibatch stochastic gradient descent we wrote earlier to\n",
        "# optimize the loss function of the model"
      ],
      "execution_count": 37,
      "outputs": []
    },
    {
      "cell_type": "code",
      "metadata": {
        "origin_pos": 39,
        "tab": [
          "pytorch"
        ],
        "id": "jaZ8RmpoqWrM"
      },
      "source": [
        "def train_one_epoch (net, train_iter, loss, updater):\n",
        "\n",
        "    metric = Accumulator(3) # Sum of training loss, sum of training accuracy, no. of examples\n",
        "    for X, y in train_iter:\n",
        "        # Compute gradients and update parameters\n",
        "        y_hat = net(X)\n",
        "        l = loss(y_hat, y)\n",
        "        l.sum().backward()\n",
        "        updater(X.shape[0])\n",
        "        metric.add(float(l.sum()), accuracy(y_hat, y), y.numel())\n",
        "    # Return training loss and training accuracy\n",
        "    return metric[0] / metric[2], metric[1] / metric[2]"
      ],
      "execution_count": 38,
      "outputs": []
    },
    {
      "cell_type": "markdown",
      "metadata": {
        "origin_pos": 41,
        "id": "zJMZqGc_qWrN"
      },
      "source": [
        "Before showing the implementation of the training function,\n",
        "we define **a utility class that plot data in animation.**"
      ]
    },
    {
      "cell_type": "markdown",
      "metadata": {
        "id": "k1pO3HuOtCle"
      },
      "source": [
        "###Code: `Animator` class"
      ]
    },
    {
      "cell_type": "code",
      "metadata": {
        "origin_pos": 42,
        "tab": [
          "pytorch"
        ],
        "id": "zHA0oIHdqWrN"
      },
      "source": [
        "class Animator:\n",
        "    \"\"\"For plotting data in animation.\"\"\"\n",
        "    def __init__(self, xlabel=None, ylabel=None, legend=None, xlim=None,\n",
        "                 ylim=None, xscale='linear', yscale='linear',\n",
        "                 fmts=('-', 'm--', 'g-.', 'r:'), nrows=1, ncols=1,\n",
        "                 figsize=(5, 5)):\n",
        "        # Incrementally plot multiple lines\n",
        "        if legend is None:\n",
        "            legend = []\n",
        "        d2l.use_svg_display()\n",
        "        self.fig, self.axes = d2l.plt.subplots(nrows, ncols, figsize=figsize)\n",
        "        if nrows * ncols == 1:\n",
        "            self.axes = [self.axes,]\n",
        "        # Use a lambda function to capture arguments\n",
        "        self.config_axes = lambda: d2l.set_axes(self.axes[\n",
        "            0], xlabel, ylabel, xlim, ylim, xscale, yscale, legend)\n",
        "        self.X, self.Y, self.fmts = None, None, fmts\n",
        "\n",
        "    def add(self, x, y):\n",
        "        # Add multiple data points into the figure\n",
        "        if not hasattr(y, \"__len__\"):\n",
        "            y = [y]\n",
        "        n = len(y)\n",
        "        if not hasattr(x, \"__len__\"):\n",
        "            x = [x] * n\n",
        "        if not self.X:\n",
        "            self.X = [[] for _ in range(n)]\n",
        "        if not self.Y:\n",
        "            self.Y = [[] for _ in range(n)]\n",
        "        for i, (a, b) in enumerate(zip(x, y)):\n",
        "            if a is not None and b is not None:\n",
        "                self.X[i].append(a)\n",
        "                self.Y[i].append(b)\n",
        "        self.axes[0].cla()\n",
        "        for x, y, fmt in zip(self.X, self.Y, self.fmts):\n",
        "            self.axes[0].plot(x, y, fmt)\n",
        "        self.config_axes()\n",
        "        display.display(self.fig)\n",
        "        display.clear_output(wait=True)"
      ],
      "execution_count": 39,
      "outputs": []
    },
    {
      "cell_type": "markdown",
      "metadata": {
        "origin_pos": 43,
        "id": "5z4l9GYcqWrO"
      },
      "source": [
        "* The following function trains a model `net` on a training dataset accessed via `train_iter` for multiple epochs, which is specified by `num_epochs`.\n",
        "\n",
        "* At the end of each epoch, the model is evaluated on a test dataset accessed via `test_iter`.\n",
        "\n",
        "* We will leverage the `Animator` class to visualize the training progress.\n"
      ]
    },
    {
      "cell_type": "markdown",
      "metadata": {
        "id": "JdBt3dgltJXv"
      },
      "source": [
        "###Code: `train_full`"
      ]
    },
    {
      "cell_type": "code",
      "metadata": {
        "origin_pos": 44,
        "tab": [
          "pytorch"
        ],
        "id": "JR0B2c_GqWrO"
      },
      "source": [
        "def train_full (net, train_iter, test_iter, loss, num_epochs, updater):\n",
        "    \"\"\"Train a model (defined in Chapter 3).\"\"\"\n",
        "    animator = Animator(xlabel='epoch', xlim=[1, num_epochs], ylim=[0.3, 0.9],\n",
        "                        legend=['train loss', 'train acc', 'test acc'])\n",
        "    for epoch in range(num_epochs):\n",
        "        train_metrics = train_one_epoch (net, train_iter, loss, updater)\n",
        "        test_acc = evaluate_accuracy(net, test_iter)\n",
        "        animator.add(epoch + 1, train_metrics + (test_acc,))\n",
        "    train_loss, train_acc = train_metrics\n",
        "    return (train_loss, train_acc, test_acc)"
      ],
      "execution_count": 40,
      "outputs": []
    },
    {
      "cell_type": "markdown",
      "metadata": {
        "origin_pos": 48,
        "id": "Fk0vMWOuqWrP"
      },
      "source": [
        "Now we **train the model with 10 epochs.** Note that both the number of epochs (`num_epochs`), and learning rate (`lr`) are adjustable hyperparameters. By changing their values, we may be able to increase the classification accuracy of the model.\n"
      ]
    },
    {
      "cell_type": "markdown",
      "metadata": {
        "id": "u8DnU0HjuXNX"
      },
      "source": [
        "### Code: Run train"
      ]
    },
    {
      "cell_type": "code",
      "metadata": {
        "origin_pos": 49,
        "tab": [
          "pytorch"
        ],
        "id": "lyvwxlpvqWrP",
        "colab": {
          "base_uri": "https://localhost:8080/",
          "height": 472
        },
        "outputId": "c4e857c6-88ef-44a2-d7aa-2df3c0c0bb54"
      },
      "source": [
        "num_epochs = 10\n",
        "lr = 0.1\n",
        "train_full (net, train_iter, test_iter, cross_entropy_loss, num_epochs, my_updater)"
      ],
      "execution_count": 41,
      "outputs": [
        {
          "output_type": "execute_result",
          "data": {
            "text/plain": [
              "(0.447199605178833, 0.8479333333333333, 0.8327)"
            ]
          },
          "metadata": {},
          "execution_count": 41
        },
        {
          "output_type": "display_data",
          "data": {
            "text/plain": [
              "<Figure size 500x500 with 1 Axes>"
            ],
            "image/svg+xml": "<?xml version=\"1.0\" encoding=\"utf-8\" standalone=\"no\"?>\n<!DOCTYPE svg PUBLIC \"-//W3C//DTD SVG 1.1//EN\"\n  \"http://www.w3.org/Graphics/SVG/1.1/DTD/svg11.dtd\">\n<svg xmlns:xlink=\"http://www.w3.org/1999/xlink\" width=\"322.665625pt\" height=\"325.755469pt\" viewBox=\"0 0 322.665625 325.755469\" xmlns=\"http://www.w3.org/2000/svg\" version=\"1.1\">\n <metadata>\n  <rdf:RDF xmlns:dc=\"http://purl.org/dc/elements/1.1/\" xmlns:cc=\"http://creativecommons.org/ns#\" xmlns:rdf=\"http://www.w3.org/1999/02/22-rdf-syntax-ns#\">\n   <cc:Work>\n    <dc:type rdf:resource=\"http://purl.org/dc/dcmitype/StillImage\"/>\n    <dc:date>2023-09-30T19:29:43.361706</dc:date>\n    <dc:format>image/svg+xml</dc:format>\n    <dc:creator>\n     <cc:Agent>\n      <dc:title>Matplotlib v3.7.1, https://matplotlib.org/</dc:title>\n     </cc:Agent>\n    </dc:creator>\n   </cc:Work>\n  </rdf:RDF>\n </metadata>\n <defs>\n  <style type=\"text/css\">*{stroke-linejoin: round; stroke-linecap: butt}</style>\n </defs>\n <g id=\"figure_1\">\n  <g id=\"patch_1\">\n   <path d=\"M 0 325.755469 \nL 322.665625 325.755469 \nL 322.665625 0 \nL 0 0 \nz\n\" style=\"fill: #ffffff\"/>\n  </g>\n  <g id=\"axes_1\">\n   <g id=\"patch_2\">\n    <path d=\"M 30.103125 288.199219 \nL 309.103125 288.199219 \nL 309.103125 10.999219 \nL 30.103125 10.999219 \nz\n\" style=\"fill: #ffffff\"/>\n   </g>\n   <g id=\"matplotlib.axis_1\">\n    <g id=\"xtick_1\">\n     <g id=\"line2d_1\">\n      <path d=\"M 30.103125 288.199219 \nL 30.103125 10.999219 \n\" clip-path=\"url(#pc8d2dd630d)\" style=\"fill: none; stroke: #b0b0b0; stroke-width: 0.8; stroke-linecap: square\"/>\n     </g>\n     <g id=\"line2d_2\">\n      <defs>\n       <path id=\"m98e1251696\" d=\"M 0 0 \nL 0 3.5 \n\" style=\"stroke: #000000; stroke-width: 0.8\"/>\n      </defs>\n      <g>\n       <use xlink:href=\"#m98e1251696\" x=\"30.103125\" y=\"288.199219\" style=\"stroke: #000000; stroke-width: 0.8\"/>\n      </g>\n     </g>\n     <g id=\"text_1\">\n      <!-- 1 -->\n      <g transform=\"translate(26.921875 302.797656) scale(0.1 -0.1)\">\n       <defs>\n        <path id=\"DejaVuSans-31\" d=\"M 794 531 \nL 1825 531 \nL 1825 4091 \nL 703 3866 \nL 703 4441 \nL 1819 4666 \nL 2450 4666 \nL 2450 531 \nL 3481 531 \nL 3481 0 \nL 794 0 \nL 794 531 \nz\n\" transform=\"scale(0.015625)\"/>\n       </defs>\n       <use xlink:href=\"#DejaVuSans-31\"/>\n      </g>\n     </g>\n    </g>\n    <g id=\"xtick_2\">\n     <g id=\"line2d_3\">\n      <path d=\"M 61.103125 288.199219 \nL 61.103125 10.999219 \n\" clip-path=\"url(#pc8d2dd630d)\" style=\"fill: none; stroke: #b0b0b0; stroke-width: 0.8; stroke-linecap: square\"/>\n     </g>\n     <g id=\"line2d_4\">\n      <g>\n       <use xlink:href=\"#m98e1251696\" x=\"61.103125\" y=\"288.199219\" style=\"stroke: #000000; stroke-width: 0.8\"/>\n      </g>\n     </g>\n     <g id=\"text_2\">\n      <!-- 2 -->\n      <g transform=\"translate(57.921875 302.797656) scale(0.1 -0.1)\">\n       <defs>\n        <path id=\"DejaVuSans-32\" d=\"M 1228 531 \nL 3431 531 \nL 3431 0 \nL 469 0 \nL 469 531 \nQ 828 903 1448 1529 \nQ 2069 2156 2228 2338 \nQ 2531 2678 2651 2914 \nQ 2772 3150 2772 3378 \nQ 2772 3750 2511 3984 \nQ 2250 4219 1831 4219 \nQ 1534 4219 1204 4116 \nQ 875 4013 500 3803 \nL 500 4441 \nQ 881 4594 1212 4672 \nQ 1544 4750 1819 4750 \nQ 2544 4750 2975 4387 \nQ 3406 4025 3406 3419 \nQ 3406 3131 3298 2873 \nQ 3191 2616 2906 2266 \nQ 2828 2175 2409 1742 \nQ 1991 1309 1228 531 \nz\n\" transform=\"scale(0.015625)\"/>\n       </defs>\n       <use xlink:href=\"#DejaVuSans-32\"/>\n      </g>\n     </g>\n    </g>\n    <g id=\"xtick_3\">\n     <g id=\"line2d_5\">\n      <path d=\"M 92.103125 288.199219 \nL 92.103125 10.999219 \n\" clip-path=\"url(#pc8d2dd630d)\" style=\"fill: none; stroke: #b0b0b0; stroke-width: 0.8; stroke-linecap: square\"/>\n     </g>\n     <g id=\"line2d_6\">\n      <g>\n       <use xlink:href=\"#m98e1251696\" x=\"92.103125\" y=\"288.199219\" style=\"stroke: #000000; stroke-width: 0.8\"/>\n      </g>\n     </g>\n     <g id=\"text_3\">\n      <!-- 3 -->\n      <g transform=\"translate(88.921875 302.797656) scale(0.1 -0.1)\">\n       <defs>\n        <path id=\"DejaVuSans-33\" d=\"M 2597 2516 \nQ 3050 2419 3304 2112 \nQ 3559 1806 3559 1356 \nQ 3559 666 3084 287 \nQ 2609 -91 1734 -91 \nQ 1441 -91 1130 -33 \nQ 819 25 488 141 \nL 488 750 \nQ 750 597 1062 519 \nQ 1375 441 1716 441 \nQ 2309 441 2620 675 \nQ 2931 909 2931 1356 \nQ 2931 1769 2642 2001 \nQ 2353 2234 1838 2234 \nL 1294 2234 \nL 1294 2753 \nL 1863 2753 \nQ 2328 2753 2575 2939 \nQ 2822 3125 2822 3475 \nQ 2822 3834 2567 4026 \nQ 2313 4219 1838 4219 \nQ 1578 4219 1281 4162 \nQ 984 4106 628 3988 \nL 628 4550 \nQ 988 4650 1302 4700 \nQ 1616 4750 1894 4750 \nQ 2613 4750 3031 4423 \nQ 3450 4097 3450 3541 \nQ 3450 3153 3228 2886 \nQ 3006 2619 2597 2516 \nz\n\" transform=\"scale(0.015625)\"/>\n       </defs>\n       <use xlink:href=\"#DejaVuSans-33\"/>\n      </g>\n     </g>\n    </g>\n    <g id=\"xtick_4\">\n     <g id=\"line2d_7\">\n      <path d=\"M 123.103125 288.199219 \nL 123.103125 10.999219 \n\" clip-path=\"url(#pc8d2dd630d)\" style=\"fill: none; stroke: #b0b0b0; stroke-width: 0.8; stroke-linecap: square\"/>\n     </g>\n     <g id=\"line2d_8\">\n      <g>\n       <use xlink:href=\"#m98e1251696\" x=\"123.103125\" y=\"288.199219\" style=\"stroke: #000000; stroke-width: 0.8\"/>\n      </g>\n     </g>\n     <g id=\"text_4\">\n      <!-- 4 -->\n      <g transform=\"translate(119.921875 302.797656) scale(0.1 -0.1)\">\n       <defs>\n        <path id=\"DejaVuSans-34\" d=\"M 2419 4116 \nL 825 1625 \nL 2419 1625 \nL 2419 4116 \nz\nM 2253 4666 \nL 3047 4666 \nL 3047 1625 \nL 3713 1625 \nL 3713 1100 \nL 3047 1100 \nL 3047 0 \nL 2419 0 \nL 2419 1100 \nL 313 1100 \nL 313 1709 \nL 2253 4666 \nz\n\" transform=\"scale(0.015625)\"/>\n       </defs>\n       <use xlink:href=\"#DejaVuSans-34\"/>\n      </g>\n     </g>\n    </g>\n    <g id=\"xtick_5\">\n     <g id=\"line2d_9\">\n      <path d=\"M 154.103125 288.199219 \nL 154.103125 10.999219 \n\" clip-path=\"url(#pc8d2dd630d)\" style=\"fill: none; stroke: #b0b0b0; stroke-width: 0.8; stroke-linecap: square\"/>\n     </g>\n     <g id=\"line2d_10\">\n      <g>\n       <use xlink:href=\"#m98e1251696\" x=\"154.103125\" y=\"288.199219\" style=\"stroke: #000000; stroke-width: 0.8\"/>\n      </g>\n     </g>\n     <g id=\"text_5\">\n      <!-- 5 -->\n      <g transform=\"translate(150.921875 302.797656) scale(0.1 -0.1)\">\n       <defs>\n        <path id=\"DejaVuSans-35\" d=\"M 691 4666 \nL 3169 4666 \nL 3169 4134 \nL 1269 4134 \nL 1269 2991 \nQ 1406 3038 1543 3061 \nQ 1681 3084 1819 3084 \nQ 2600 3084 3056 2656 \nQ 3513 2228 3513 1497 \nQ 3513 744 3044 326 \nQ 2575 -91 1722 -91 \nQ 1428 -91 1123 -41 \nQ 819 9 494 109 \nL 494 744 \nQ 775 591 1075 516 \nQ 1375 441 1709 441 \nQ 2250 441 2565 725 \nQ 2881 1009 2881 1497 \nQ 2881 1984 2565 2268 \nQ 2250 2553 1709 2553 \nQ 1456 2553 1204 2497 \nQ 953 2441 691 2322 \nL 691 4666 \nz\n\" transform=\"scale(0.015625)\"/>\n       </defs>\n       <use xlink:href=\"#DejaVuSans-35\"/>\n      </g>\n     </g>\n    </g>\n    <g id=\"xtick_6\">\n     <g id=\"line2d_11\">\n      <path d=\"M 185.103125 288.199219 \nL 185.103125 10.999219 \n\" clip-path=\"url(#pc8d2dd630d)\" style=\"fill: none; stroke: #b0b0b0; stroke-width: 0.8; stroke-linecap: square\"/>\n     </g>\n     <g id=\"line2d_12\">\n      <g>\n       <use xlink:href=\"#m98e1251696\" x=\"185.103125\" y=\"288.199219\" style=\"stroke: #000000; stroke-width: 0.8\"/>\n      </g>\n     </g>\n     <g id=\"text_6\">\n      <!-- 6 -->\n      <g transform=\"translate(181.921875 302.797656) scale(0.1 -0.1)\">\n       <defs>\n        <path id=\"DejaVuSans-36\" d=\"M 2113 2584 \nQ 1688 2584 1439 2293 \nQ 1191 2003 1191 1497 \nQ 1191 994 1439 701 \nQ 1688 409 2113 409 \nQ 2538 409 2786 701 \nQ 3034 994 3034 1497 \nQ 3034 2003 2786 2293 \nQ 2538 2584 2113 2584 \nz\nM 3366 4563 \nL 3366 3988 \nQ 3128 4100 2886 4159 \nQ 2644 4219 2406 4219 \nQ 1781 4219 1451 3797 \nQ 1122 3375 1075 2522 \nQ 1259 2794 1537 2939 \nQ 1816 3084 2150 3084 \nQ 2853 3084 3261 2657 \nQ 3669 2231 3669 1497 \nQ 3669 778 3244 343 \nQ 2819 -91 2113 -91 \nQ 1303 -91 875 529 \nQ 447 1150 447 2328 \nQ 447 3434 972 4092 \nQ 1497 4750 2381 4750 \nQ 2619 4750 2861 4703 \nQ 3103 4656 3366 4563 \nz\n\" transform=\"scale(0.015625)\"/>\n       </defs>\n       <use xlink:href=\"#DejaVuSans-36\"/>\n      </g>\n     </g>\n    </g>\n    <g id=\"xtick_7\">\n     <g id=\"line2d_13\">\n      <path d=\"M 216.103125 288.199219 \nL 216.103125 10.999219 \n\" clip-path=\"url(#pc8d2dd630d)\" style=\"fill: none; stroke: #b0b0b0; stroke-width: 0.8; stroke-linecap: square\"/>\n     </g>\n     <g id=\"line2d_14\">\n      <g>\n       <use xlink:href=\"#m98e1251696\" x=\"216.103125\" y=\"288.199219\" style=\"stroke: #000000; stroke-width: 0.8\"/>\n      </g>\n     </g>\n     <g id=\"text_7\">\n      <!-- 7 -->\n      <g transform=\"translate(212.921875 302.797656) scale(0.1 -0.1)\">\n       <defs>\n        <path id=\"DejaVuSans-37\" d=\"M 525 4666 \nL 3525 4666 \nL 3525 4397 \nL 1831 0 \nL 1172 0 \nL 2766 4134 \nL 525 4134 \nL 525 4666 \nz\n\" transform=\"scale(0.015625)\"/>\n       </defs>\n       <use xlink:href=\"#DejaVuSans-37\"/>\n      </g>\n     </g>\n    </g>\n    <g id=\"xtick_8\">\n     <g id=\"line2d_15\">\n      <path d=\"M 247.103125 288.199219 \nL 247.103125 10.999219 \n\" clip-path=\"url(#pc8d2dd630d)\" style=\"fill: none; stroke: #b0b0b0; stroke-width: 0.8; stroke-linecap: square\"/>\n     </g>\n     <g id=\"line2d_16\">\n      <g>\n       <use xlink:href=\"#m98e1251696\" x=\"247.103125\" y=\"288.199219\" style=\"stroke: #000000; stroke-width: 0.8\"/>\n      </g>\n     </g>\n     <g id=\"text_8\">\n      <!-- 8 -->\n      <g transform=\"translate(243.921875 302.797656) scale(0.1 -0.1)\">\n       <defs>\n        <path id=\"DejaVuSans-38\" d=\"M 2034 2216 \nQ 1584 2216 1326 1975 \nQ 1069 1734 1069 1313 \nQ 1069 891 1326 650 \nQ 1584 409 2034 409 \nQ 2484 409 2743 651 \nQ 3003 894 3003 1313 \nQ 3003 1734 2745 1975 \nQ 2488 2216 2034 2216 \nz\nM 1403 2484 \nQ 997 2584 770 2862 \nQ 544 3141 544 3541 \nQ 544 4100 942 4425 \nQ 1341 4750 2034 4750 \nQ 2731 4750 3128 4425 \nQ 3525 4100 3525 3541 \nQ 3525 3141 3298 2862 \nQ 3072 2584 2669 2484 \nQ 3125 2378 3379 2068 \nQ 3634 1759 3634 1313 \nQ 3634 634 3220 271 \nQ 2806 -91 2034 -91 \nQ 1263 -91 848 271 \nQ 434 634 434 1313 \nQ 434 1759 690 2068 \nQ 947 2378 1403 2484 \nz\nM 1172 3481 \nQ 1172 3119 1398 2916 \nQ 1625 2713 2034 2713 \nQ 2441 2713 2670 2916 \nQ 2900 3119 2900 3481 \nQ 2900 3844 2670 4047 \nQ 2441 4250 2034 4250 \nQ 1625 4250 1398 4047 \nQ 1172 3844 1172 3481 \nz\n\" transform=\"scale(0.015625)\"/>\n       </defs>\n       <use xlink:href=\"#DejaVuSans-38\"/>\n      </g>\n     </g>\n    </g>\n    <g id=\"xtick_9\">\n     <g id=\"line2d_17\">\n      <path d=\"M 278.103125 288.199219 \nL 278.103125 10.999219 \n\" clip-path=\"url(#pc8d2dd630d)\" style=\"fill: none; stroke: #b0b0b0; stroke-width: 0.8; stroke-linecap: square\"/>\n     </g>\n     <g id=\"line2d_18\">\n      <g>\n       <use xlink:href=\"#m98e1251696\" x=\"278.103125\" y=\"288.199219\" style=\"stroke: #000000; stroke-width: 0.8\"/>\n      </g>\n     </g>\n     <g id=\"text_9\">\n      <!-- 9 -->\n      <g transform=\"translate(274.921875 302.797656) scale(0.1 -0.1)\">\n       <defs>\n        <path id=\"DejaVuSans-39\" d=\"M 703 97 \nL 703 672 \nQ 941 559 1184 500 \nQ 1428 441 1663 441 \nQ 2288 441 2617 861 \nQ 2947 1281 2994 2138 \nQ 2813 1869 2534 1725 \nQ 2256 1581 1919 1581 \nQ 1219 1581 811 2004 \nQ 403 2428 403 3163 \nQ 403 3881 828 4315 \nQ 1253 4750 1959 4750 \nQ 2769 4750 3195 4129 \nQ 3622 3509 3622 2328 \nQ 3622 1225 3098 567 \nQ 2575 -91 1691 -91 \nQ 1453 -91 1209 -44 \nQ 966 3 703 97 \nz\nM 1959 2075 \nQ 2384 2075 2632 2365 \nQ 2881 2656 2881 3163 \nQ 2881 3666 2632 3958 \nQ 2384 4250 1959 4250 \nQ 1534 4250 1286 3958 \nQ 1038 3666 1038 3163 \nQ 1038 2656 1286 2365 \nQ 1534 2075 1959 2075 \nz\n\" transform=\"scale(0.015625)\"/>\n       </defs>\n       <use xlink:href=\"#DejaVuSans-39\"/>\n      </g>\n     </g>\n    </g>\n    <g id=\"xtick_10\">\n     <g id=\"line2d_19\">\n      <path d=\"M 309.103125 288.199219 \nL 309.103125 10.999219 \n\" clip-path=\"url(#pc8d2dd630d)\" style=\"fill: none; stroke: #b0b0b0; stroke-width: 0.8; stroke-linecap: square\"/>\n     </g>\n     <g id=\"line2d_20\">\n      <g>\n       <use xlink:href=\"#m98e1251696\" x=\"309.103125\" y=\"288.199219\" style=\"stroke: #000000; stroke-width: 0.8\"/>\n      </g>\n     </g>\n     <g id=\"text_10\">\n      <!-- 10 -->\n      <g transform=\"translate(302.740625 302.797656) scale(0.1 -0.1)\">\n       <defs>\n        <path id=\"DejaVuSans-30\" d=\"M 2034 4250 \nQ 1547 4250 1301 3770 \nQ 1056 3291 1056 2328 \nQ 1056 1369 1301 889 \nQ 1547 409 2034 409 \nQ 2525 409 2770 889 \nQ 3016 1369 3016 2328 \nQ 3016 3291 2770 3770 \nQ 2525 4250 2034 4250 \nz\nM 2034 4750 \nQ 2819 4750 3233 4129 \nQ 3647 3509 3647 2328 \nQ 3647 1150 3233 529 \nQ 2819 -91 2034 -91 \nQ 1250 -91 836 529 \nQ 422 1150 422 2328 \nQ 422 3509 836 4129 \nQ 1250 4750 2034 4750 \nz\n\" transform=\"scale(0.015625)\"/>\n       </defs>\n       <use xlink:href=\"#DejaVuSans-31\"/>\n       <use xlink:href=\"#DejaVuSans-30\" x=\"63.623047\"/>\n      </g>\n     </g>\n    </g>\n    <g id=\"text_11\">\n     <!-- epoch -->\n     <g transform=\"translate(154.375 316.475781) scale(0.1 -0.1)\">\n      <defs>\n       <path id=\"DejaVuSans-65\" d=\"M 3597 1894 \nL 3597 1613 \nL 953 1613 \nQ 991 1019 1311 708 \nQ 1631 397 2203 397 \nQ 2534 397 2845 478 \nQ 3156 559 3463 722 \nL 3463 178 \nQ 3153 47 2828 -22 \nQ 2503 -91 2169 -91 \nQ 1331 -91 842 396 \nQ 353 884 353 1716 \nQ 353 2575 817 3079 \nQ 1281 3584 2069 3584 \nQ 2775 3584 3186 3129 \nQ 3597 2675 3597 1894 \nz\nM 3022 2063 \nQ 3016 2534 2758 2815 \nQ 2500 3097 2075 3097 \nQ 1594 3097 1305 2825 \nQ 1016 2553 972 2059 \nL 3022 2063 \nz\n\" transform=\"scale(0.015625)\"/>\n       <path id=\"DejaVuSans-70\" d=\"M 1159 525 \nL 1159 -1331 \nL 581 -1331 \nL 581 3500 \nL 1159 3500 \nL 1159 2969 \nQ 1341 3281 1617 3432 \nQ 1894 3584 2278 3584 \nQ 2916 3584 3314 3078 \nQ 3713 2572 3713 1747 \nQ 3713 922 3314 415 \nQ 2916 -91 2278 -91 \nQ 1894 -91 1617 61 \nQ 1341 213 1159 525 \nz\nM 3116 1747 \nQ 3116 2381 2855 2742 \nQ 2594 3103 2138 3103 \nQ 1681 3103 1420 2742 \nQ 1159 2381 1159 1747 \nQ 1159 1113 1420 752 \nQ 1681 391 2138 391 \nQ 2594 391 2855 752 \nQ 3116 1113 3116 1747 \nz\n\" transform=\"scale(0.015625)\"/>\n       <path id=\"DejaVuSans-6f\" d=\"M 1959 3097 \nQ 1497 3097 1228 2736 \nQ 959 2375 959 1747 \nQ 959 1119 1226 758 \nQ 1494 397 1959 397 \nQ 2419 397 2687 759 \nQ 2956 1122 2956 1747 \nQ 2956 2369 2687 2733 \nQ 2419 3097 1959 3097 \nz\nM 1959 3584 \nQ 2709 3584 3137 3096 \nQ 3566 2609 3566 1747 \nQ 3566 888 3137 398 \nQ 2709 -91 1959 -91 \nQ 1206 -91 779 398 \nQ 353 888 353 1747 \nQ 353 2609 779 3096 \nQ 1206 3584 1959 3584 \nz\n\" transform=\"scale(0.015625)\"/>\n       <path id=\"DejaVuSans-63\" d=\"M 3122 3366 \nL 3122 2828 \nQ 2878 2963 2633 3030 \nQ 2388 3097 2138 3097 \nQ 1578 3097 1268 2742 \nQ 959 2388 959 1747 \nQ 959 1106 1268 751 \nQ 1578 397 2138 397 \nQ 2388 397 2633 464 \nQ 2878 531 3122 666 \nL 3122 134 \nQ 2881 22 2623 -34 \nQ 2366 -91 2075 -91 \nQ 1284 -91 818 406 \nQ 353 903 353 1747 \nQ 353 2603 823 3093 \nQ 1294 3584 2113 3584 \nQ 2378 3584 2631 3529 \nQ 2884 3475 3122 3366 \nz\n\" transform=\"scale(0.015625)\"/>\n       <path id=\"DejaVuSans-68\" d=\"M 3513 2113 \nL 3513 0 \nL 2938 0 \nL 2938 2094 \nQ 2938 2591 2744 2837 \nQ 2550 3084 2163 3084 \nQ 1697 3084 1428 2787 \nQ 1159 2491 1159 1978 \nL 1159 0 \nL 581 0 \nL 581 4863 \nL 1159 4863 \nL 1159 2956 \nQ 1366 3272 1645 3428 \nQ 1925 3584 2291 3584 \nQ 2894 3584 3203 3211 \nQ 3513 2838 3513 2113 \nz\n\" transform=\"scale(0.015625)\"/>\n      </defs>\n      <use xlink:href=\"#DejaVuSans-65\"/>\n      <use xlink:href=\"#DejaVuSans-70\" x=\"61.523438\"/>\n      <use xlink:href=\"#DejaVuSans-6f\" x=\"125\"/>\n      <use xlink:href=\"#DejaVuSans-63\" x=\"186.181641\"/>\n      <use xlink:href=\"#DejaVuSans-68\" x=\"241.162109\"/>\n     </g>\n    </g>\n   </g>\n   <g id=\"matplotlib.axis_2\">\n    <g id=\"ytick_1\">\n     <g id=\"line2d_21\">\n      <path d=\"M 30.103125 288.199219 \nL 309.103125 288.199219 \n\" clip-path=\"url(#pc8d2dd630d)\" style=\"fill: none; stroke: #b0b0b0; stroke-width: 0.8; stroke-linecap: square\"/>\n     </g>\n     <g id=\"line2d_22\">\n      <defs>\n       <path id=\"m2cf31f253a\" d=\"M 0 0 \nL -3.5 0 \n\" style=\"stroke: #000000; stroke-width: 0.8\"/>\n      </defs>\n      <g>\n       <use xlink:href=\"#m2cf31f253a\" x=\"30.103125\" y=\"288.199219\" style=\"stroke: #000000; stroke-width: 0.8\"/>\n      </g>\n     </g>\n     <g id=\"text_12\">\n      <!-- 0.3 -->\n      <g transform=\"translate(7.2 291.998438) scale(0.1 -0.1)\">\n       <defs>\n        <path id=\"DejaVuSans-2e\" d=\"M 684 794 \nL 1344 794 \nL 1344 0 \nL 684 0 \nL 684 794 \nz\n\" transform=\"scale(0.015625)\"/>\n       </defs>\n       <use xlink:href=\"#DejaVuSans-30\"/>\n       <use xlink:href=\"#DejaVuSans-2e\" x=\"63.623047\"/>\n       <use xlink:href=\"#DejaVuSans-33\" x=\"95.410156\"/>\n      </g>\n     </g>\n    </g>\n    <g id=\"ytick_2\">\n     <g id=\"line2d_23\">\n      <path d=\"M 30.103125 241.999219 \nL 309.103125 241.999219 \n\" clip-path=\"url(#pc8d2dd630d)\" style=\"fill: none; stroke: #b0b0b0; stroke-width: 0.8; stroke-linecap: square\"/>\n     </g>\n     <g id=\"line2d_24\">\n      <g>\n       <use xlink:href=\"#m2cf31f253a\" x=\"30.103125\" y=\"241.999219\" style=\"stroke: #000000; stroke-width: 0.8\"/>\n      </g>\n     </g>\n     <g id=\"text_13\">\n      <!-- 0.4 -->\n      <g transform=\"translate(7.2 245.798438) scale(0.1 -0.1)\">\n       <use xlink:href=\"#DejaVuSans-30\"/>\n       <use xlink:href=\"#DejaVuSans-2e\" x=\"63.623047\"/>\n       <use xlink:href=\"#DejaVuSans-34\" x=\"95.410156\"/>\n      </g>\n     </g>\n    </g>\n    <g id=\"ytick_3\">\n     <g id=\"line2d_25\">\n      <path d=\"M 30.103125 195.799219 \nL 309.103125 195.799219 \n\" clip-path=\"url(#pc8d2dd630d)\" style=\"fill: none; stroke: #b0b0b0; stroke-width: 0.8; stroke-linecap: square\"/>\n     </g>\n     <g id=\"line2d_26\">\n      <g>\n       <use xlink:href=\"#m2cf31f253a\" x=\"30.103125\" y=\"195.799219\" style=\"stroke: #000000; stroke-width: 0.8\"/>\n      </g>\n     </g>\n     <g id=\"text_14\">\n      <!-- 0.5 -->\n      <g transform=\"translate(7.2 199.598438) scale(0.1 -0.1)\">\n       <use xlink:href=\"#DejaVuSans-30\"/>\n       <use xlink:href=\"#DejaVuSans-2e\" x=\"63.623047\"/>\n       <use xlink:href=\"#DejaVuSans-35\" x=\"95.410156\"/>\n      </g>\n     </g>\n    </g>\n    <g id=\"ytick_4\">\n     <g id=\"line2d_27\">\n      <path d=\"M 30.103125 149.599219 \nL 309.103125 149.599219 \n\" clip-path=\"url(#pc8d2dd630d)\" style=\"fill: none; stroke: #b0b0b0; stroke-width: 0.8; stroke-linecap: square\"/>\n     </g>\n     <g id=\"line2d_28\">\n      <g>\n       <use xlink:href=\"#m2cf31f253a\" x=\"30.103125\" y=\"149.599219\" style=\"stroke: #000000; stroke-width: 0.8\"/>\n      </g>\n     </g>\n     <g id=\"text_15\">\n      <!-- 0.6 -->\n      <g transform=\"translate(7.2 153.398437) scale(0.1 -0.1)\">\n       <use xlink:href=\"#DejaVuSans-30\"/>\n       <use xlink:href=\"#DejaVuSans-2e\" x=\"63.623047\"/>\n       <use xlink:href=\"#DejaVuSans-36\" x=\"95.410156\"/>\n      </g>\n     </g>\n    </g>\n    <g id=\"ytick_5\">\n     <g id=\"line2d_29\">\n      <path d=\"M 30.103125 103.399219 \nL 309.103125 103.399219 \n\" clip-path=\"url(#pc8d2dd630d)\" style=\"fill: none; stroke: #b0b0b0; stroke-width: 0.8; stroke-linecap: square\"/>\n     </g>\n     <g id=\"line2d_30\">\n      <g>\n       <use xlink:href=\"#m2cf31f253a\" x=\"30.103125\" y=\"103.399219\" style=\"stroke: #000000; stroke-width: 0.8\"/>\n      </g>\n     </g>\n     <g id=\"text_16\">\n      <!-- 0.7 -->\n      <g transform=\"translate(7.2 107.198438) scale(0.1 -0.1)\">\n       <use xlink:href=\"#DejaVuSans-30\"/>\n       <use xlink:href=\"#DejaVuSans-2e\" x=\"63.623047\"/>\n       <use xlink:href=\"#DejaVuSans-37\" x=\"95.410156\"/>\n      </g>\n     </g>\n    </g>\n    <g id=\"ytick_6\">\n     <g id=\"line2d_31\">\n      <path d=\"M 30.103125 57.199219 \nL 309.103125 57.199219 \n\" clip-path=\"url(#pc8d2dd630d)\" style=\"fill: none; stroke: #b0b0b0; stroke-width: 0.8; stroke-linecap: square\"/>\n     </g>\n     <g id=\"line2d_32\">\n      <g>\n       <use xlink:href=\"#m2cf31f253a\" x=\"30.103125\" y=\"57.199219\" style=\"stroke: #000000; stroke-width: 0.8\"/>\n      </g>\n     </g>\n     <g id=\"text_17\">\n      <!-- 0.8 -->\n      <g transform=\"translate(7.2 60.998438) scale(0.1 -0.1)\">\n       <use xlink:href=\"#DejaVuSans-30\"/>\n       <use xlink:href=\"#DejaVuSans-2e\" x=\"63.623047\"/>\n       <use xlink:href=\"#DejaVuSans-38\" x=\"95.410156\"/>\n      </g>\n     </g>\n    </g>\n    <g id=\"ytick_7\">\n     <g id=\"line2d_33\">\n      <path d=\"M 30.103125 10.999219 \nL 309.103125 10.999219 \n\" clip-path=\"url(#pc8d2dd630d)\" style=\"fill: none; stroke: #b0b0b0; stroke-width: 0.8; stroke-linecap: square\"/>\n     </g>\n     <g id=\"line2d_34\">\n      <g>\n       <use xlink:href=\"#m2cf31f253a\" x=\"30.103125\" y=\"10.999219\" style=\"stroke: #000000; stroke-width: 0.8\"/>\n      </g>\n     </g>\n     <g id=\"text_18\">\n      <!-- 0.9 -->\n      <g transform=\"translate(7.2 14.798437) scale(0.1 -0.1)\">\n       <use xlink:href=\"#DejaVuSans-30\"/>\n       <use xlink:href=\"#DejaVuSans-2e\" x=\"63.623047\"/>\n       <use xlink:href=\"#DejaVuSans-39\" x=\"95.410156\"/>\n      </g>\n     </g>\n    </g>\n   </g>\n   <g id=\"line2d_35\">\n    <path d=\"M 30.103125 62.642239 \nL 61.103125 163.419596 \nL 92.103125 184.191164 \nL 123.103125 195.398839 \nL 154.103125 202.496273 \nL 185.103125 207.664557 \nL 216.103125 211.683069 \nL 247.103125 215.129264 \nL 278.103125 217.899618 \nL 309.103125 220.193001 \n\" clip-path=\"url(#pc8d2dd630d)\" style=\"fill: none; stroke: #1f77b4; stroke-width: 1.5; stroke-linecap: square\"/>\n   </g>\n   <g id=\"line2d_36\">\n    <path d=\"M 30.103125 81.284819 \nL 61.103125 51.431919 \nL 92.103125 45.764719 \nL 123.103125 42.261219 \nL 154.103125 40.444019 \nL 185.103125 38.927119 \nL 216.103125 37.133019 \nL 247.103125 36.216719 \nL 278.103125 35.608419 \nL 309.103125 35.054019 \n\" clip-path=\"url(#pc8d2dd630d)\" style=\"fill: none; stroke-dasharray: 5.55,2.4; stroke-dashoffset: 0; stroke: #bf00bf; stroke-width: 1.5\"/>\n   </g>\n   <g id=\"line2d_37\">\n    <path d=\"M 30.103125 60.525619 \nL 61.103125 54.381019 \nL 92.103125 52.579219 \nL 123.103125 46.296019 \nL 154.103125 46.296019 \nL 185.103125 44.494219 \nL 216.103125 45.695419 \nL 247.103125 47.451019 \nL 278.103125 46.249819 \nL 309.103125 42.091819 \n\" clip-path=\"url(#pc8d2dd630d)\" style=\"fill: none; stroke-dasharray: 9.6,2.4,1.5,2.4; stroke-dashoffset: 0; stroke: #008000; stroke-width: 1.5\"/>\n   </g>\n   <g id=\"patch_3\">\n    <path d=\"M 30.103125 288.199219 \nL 30.103125 10.999219 \n\" style=\"fill: none; stroke: #000000; stroke-width: 0.8; stroke-linejoin: miter; stroke-linecap: square\"/>\n   </g>\n   <g id=\"patch_4\">\n    <path d=\"M 309.103125 288.199219 \nL 309.103125 10.999219 \n\" style=\"fill: none; stroke: #000000; stroke-width: 0.8; stroke-linejoin: miter; stroke-linecap: square\"/>\n   </g>\n   <g id=\"patch_5\">\n    <path d=\"M 30.103125 288.199219 \nL 309.103125 288.199219 \n\" style=\"fill: none; stroke: #000000; stroke-width: 0.8; stroke-linejoin: miter; stroke-linecap: square\"/>\n   </g>\n   <g id=\"patch_6\">\n    <path d=\"M 30.103125 10.999219 \nL 309.103125 10.999219 \n\" style=\"fill: none; stroke: #000000; stroke-width: 0.8; stroke-linejoin: miter; stroke-linecap: square\"/>\n   </g>\n   <g id=\"legend_1\">\n    <g id=\"patch_7\">\n     <path d=\"M 37.103125 283.199219 \nL 114.871875 283.199219 \nQ 116.871875 283.199219 116.871875 281.199219 \nL 116.871875 238.164844 \nQ 116.871875 236.164844 114.871875 236.164844 \nL 37.103125 236.164844 \nQ 35.103125 236.164844 35.103125 238.164844 \nL 35.103125 281.199219 \nQ 35.103125 283.199219 37.103125 283.199219 \nz\n\" style=\"fill: #ffffff; opacity: 0.8; stroke: #cccccc; stroke-linejoin: miter\"/>\n    </g>\n    <g id=\"line2d_38\">\n     <path d=\"M 39.103125 244.263281 \nL 49.103125 244.263281 \nL 59.103125 244.263281 \n\" style=\"fill: none; stroke: #1f77b4; stroke-width: 1.5; stroke-linecap: square\"/>\n    </g>\n    <g id=\"text_19\">\n     <!-- train loss -->\n     <g transform=\"translate(67.103125 247.763281) scale(0.1 -0.1)\">\n      <defs>\n       <path id=\"DejaVuSans-74\" d=\"M 1172 4494 \nL 1172 3500 \nL 2356 3500 \nL 2356 3053 \nL 1172 3053 \nL 1172 1153 \nQ 1172 725 1289 603 \nQ 1406 481 1766 481 \nL 2356 481 \nL 2356 0 \nL 1766 0 \nQ 1100 0 847 248 \nQ 594 497 594 1153 \nL 594 3053 \nL 172 3053 \nL 172 3500 \nL 594 3500 \nL 594 4494 \nL 1172 4494 \nz\n\" transform=\"scale(0.015625)\"/>\n       <path id=\"DejaVuSans-72\" d=\"M 2631 2963 \nQ 2534 3019 2420 3045 \nQ 2306 3072 2169 3072 \nQ 1681 3072 1420 2755 \nQ 1159 2438 1159 1844 \nL 1159 0 \nL 581 0 \nL 581 3500 \nL 1159 3500 \nL 1159 2956 \nQ 1341 3275 1631 3429 \nQ 1922 3584 2338 3584 \nQ 2397 3584 2469 3576 \nQ 2541 3569 2628 3553 \nL 2631 2963 \nz\n\" transform=\"scale(0.015625)\"/>\n       <path id=\"DejaVuSans-61\" d=\"M 2194 1759 \nQ 1497 1759 1228 1600 \nQ 959 1441 959 1056 \nQ 959 750 1161 570 \nQ 1363 391 1709 391 \nQ 2188 391 2477 730 \nQ 2766 1069 2766 1631 \nL 2766 1759 \nL 2194 1759 \nz\nM 3341 1997 \nL 3341 0 \nL 2766 0 \nL 2766 531 \nQ 2569 213 2275 61 \nQ 1981 -91 1556 -91 \nQ 1019 -91 701 211 \nQ 384 513 384 1019 \nQ 384 1609 779 1909 \nQ 1175 2209 1959 2209 \nL 2766 2209 \nL 2766 2266 \nQ 2766 2663 2505 2880 \nQ 2244 3097 1772 3097 \nQ 1472 3097 1187 3025 \nQ 903 2953 641 2809 \nL 641 3341 \nQ 956 3463 1253 3523 \nQ 1550 3584 1831 3584 \nQ 2591 3584 2966 3190 \nQ 3341 2797 3341 1997 \nz\n\" transform=\"scale(0.015625)\"/>\n       <path id=\"DejaVuSans-69\" d=\"M 603 3500 \nL 1178 3500 \nL 1178 0 \nL 603 0 \nL 603 3500 \nz\nM 603 4863 \nL 1178 4863 \nL 1178 4134 \nL 603 4134 \nL 603 4863 \nz\n\" transform=\"scale(0.015625)\"/>\n       <path id=\"DejaVuSans-6e\" d=\"M 3513 2113 \nL 3513 0 \nL 2938 0 \nL 2938 2094 \nQ 2938 2591 2744 2837 \nQ 2550 3084 2163 3084 \nQ 1697 3084 1428 2787 \nQ 1159 2491 1159 1978 \nL 1159 0 \nL 581 0 \nL 581 3500 \nL 1159 3500 \nL 1159 2956 \nQ 1366 3272 1645 3428 \nQ 1925 3584 2291 3584 \nQ 2894 3584 3203 3211 \nQ 3513 2838 3513 2113 \nz\n\" transform=\"scale(0.015625)\"/>\n       <path id=\"DejaVuSans-20\" transform=\"scale(0.015625)\"/>\n       <path id=\"DejaVuSans-6c\" d=\"M 603 4863 \nL 1178 4863 \nL 1178 0 \nL 603 0 \nL 603 4863 \nz\n\" transform=\"scale(0.015625)\"/>\n       <path id=\"DejaVuSans-73\" d=\"M 2834 3397 \nL 2834 2853 \nQ 2591 2978 2328 3040 \nQ 2066 3103 1784 3103 \nQ 1356 3103 1142 2972 \nQ 928 2841 928 2578 \nQ 928 2378 1081 2264 \nQ 1234 2150 1697 2047 \nL 1894 2003 \nQ 2506 1872 2764 1633 \nQ 3022 1394 3022 966 \nQ 3022 478 2636 193 \nQ 2250 -91 1575 -91 \nQ 1294 -91 989 -36 \nQ 684 19 347 128 \nL 347 722 \nQ 666 556 975 473 \nQ 1284 391 1588 391 \nQ 1994 391 2212 530 \nQ 2431 669 2431 922 \nQ 2431 1156 2273 1281 \nQ 2116 1406 1581 1522 \nL 1381 1569 \nQ 847 1681 609 1914 \nQ 372 2147 372 2553 \nQ 372 3047 722 3315 \nQ 1072 3584 1716 3584 \nQ 2034 3584 2315 3537 \nQ 2597 3491 2834 3397 \nz\n\" transform=\"scale(0.015625)\"/>\n      </defs>\n      <use xlink:href=\"#DejaVuSans-74\"/>\n      <use xlink:href=\"#DejaVuSans-72\" x=\"39.208984\"/>\n      <use xlink:href=\"#DejaVuSans-61\" x=\"80.322266\"/>\n      <use xlink:href=\"#DejaVuSans-69\" x=\"141.601562\"/>\n      <use xlink:href=\"#DejaVuSans-6e\" x=\"169.384766\"/>\n      <use xlink:href=\"#DejaVuSans-20\" x=\"232.763672\"/>\n      <use xlink:href=\"#DejaVuSans-6c\" x=\"264.550781\"/>\n      <use xlink:href=\"#DejaVuSans-6f\" x=\"292.333984\"/>\n      <use xlink:href=\"#DejaVuSans-73\" x=\"353.515625\"/>\n      <use xlink:href=\"#DejaVuSans-73\" x=\"405.615234\"/>\n     </g>\n    </g>\n    <g id=\"line2d_39\">\n     <path d=\"M 39.103125 258.941406 \nL 49.103125 258.941406 \nL 59.103125 258.941406 \n\" style=\"fill: none; stroke-dasharray: 5.55,2.4; stroke-dashoffset: 0; stroke: #bf00bf; stroke-width: 1.5\"/>\n    </g>\n    <g id=\"text_20\">\n     <!-- train acc -->\n     <g transform=\"translate(67.103125 262.441406) scale(0.1 -0.1)\">\n      <use xlink:href=\"#DejaVuSans-74\"/>\n      <use xlink:href=\"#DejaVuSans-72\" x=\"39.208984\"/>\n      <use xlink:href=\"#DejaVuSans-61\" x=\"80.322266\"/>\n      <use xlink:href=\"#DejaVuSans-69\" x=\"141.601562\"/>\n      <use xlink:href=\"#DejaVuSans-6e\" x=\"169.384766\"/>\n      <use xlink:href=\"#DejaVuSans-20\" x=\"232.763672\"/>\n      <use xlink:href=\"#DejaVuSans-61\" x=\"264.550781\"/>\n      <use xlink:href=\"#DejaVuSans-63\" x=\"325.830078\"/>\n      <use xlink:href=\"#DejaVuSans-63\" x=\"380.810547\"/>\n     </g>\n    </g>\n    <g id=\"line2d_40\">\n     <path d=\"M 39.103125 273.619531 \nL 49.103125 273.619531 \nL 59.103125 273.619531 \n\" style=\"fill: none; stroke-dasharray: 9.6,2.4,1.5,2.4; stroke-dashoffset: 0; stroke: #008000; stroke-width: 1.5\"/>\n    </g>\n    <g id=\"text_21\">\n     <!-- test acc -->\n     <g transform=\"translate(67.103125 277.119531) scale(0.1 -0.1)\">\n      <use xlink:href=\"#DejaVuSans-74\"/>\n      <use xlink:href=\"#DejaVuSans-65\" x=\"39.208984\"/>\n      <use xlink:href=\"#DejaVuSans-73\" x=\"100.732422\"/>\n      <use xlink:href=\"#DejaVuSans-74\" x=\"152.832031\"/>\n      <use xlink:href=\"#DejaVuSans-20\" x=\"192.041016\"/>\n      <use xlink:href=\"#DejaVuSans-61\" x=\"223.828125\"/>\n      <use xlink:href=\"#DejaVuSans-63\" x=\"285.107422\"/>\n      <use xlink:href=\"#DejaVuSans-63\" x=\"340.087891\"/>\n     </g>\n    </g>\n   </g>\n  </g>\n </g>\n <defs>\n  <clipPath id=\"pc8d2dd630d\">\n   <rect x=\"30.103125\" y=\"10.999219\" width=\"279\" height=\"277.2\"/>\n  </clipPath>\n </defs>\n</svg>\n"
          },
          "metadata": {}
        }
      ]
    },
    {
      "cell_type": "markdown",
      "metadata": {
        "origin_pos": 50,
        "id": "7DWpPZjqqWrQ"
      },
      "source": [
        "## Prediction\n",
        "\n",
        "Now that training is complete, our model is ready to **classify some images.**\n",
        "Given a series of images, we will compare their actual labels (first line of text output) and the predictions from the model (second line of text output).\n"
      ]
    },
    {
      "cell_type": "markdown",
      "metadata": {
        "id": "IieOngQhx1Ll"
      },
      "source": [
        "### Code: `predict`"
      ]
    },
    {
      "cell_type": "code",
      "metadata": {
        "origin_pos": 51,
        "tab": [
          "pytorch"
        ],
        "id": "N_vlMgT-qWrQ",
        "colab": {
          "base_uri": "https://localhost:8080/",
          "height": 174
        },
        "outputId": "84bfde9a-36a5-449d-b1dc-d95bcb5fb5c3"
      },
      "source": [
        "def predict (net, test_iter, n=6):\n",
        "    \"\"\"Predict labels (defined in Chapter 3).\"\"\"\n",
        "    for X, y in test_iter:\n",
        "        break\n",
        "    trues = d2l.get_fashion_mnist_labels(y)\n",
        "    preds = d2l.get_fashion_mnist_labels(net(X).argmax(axis=1)) ## This is how you invoke the model\n",
        "    titles = [true + '\\n' + pred for true, pred in zip(trues, preds)]\n",
        "    d2l.show_images(X[0:n].reshape((n, 28, 28)), 1, n, titles=titles[0:n])\n",
        "\n",
        "predict (net, test_iter)"
      ],
      "execution_count": 42,
      "outputs": [
        {
          "output_type": "display_data",
          "data": {
            "text/plain": [
              "<Figure size 900x150 with 6 Axes>"
            ],
            "image/svg+xml": "<?xml version=\"1.0\" encoding=\"utf-8\" standalone=\"no\"?>\n<!DOCTYPE svg PUBLIC \"-//W3C//DTD SVG 1.1//EN\"\n  \"http://www.w3.org/Graphics/SVG/1.1/DTD/svg11.dtd\">\n<svg xmlns:xlink=\"http://www.w3.org/1999/xlink\" width=\"516.6pt\" height=\"114.698357pt\" viewBox=\"0 0 516.6 114.698357\" xmlns=\"http://www.w3.org/2000/svg\" version=\"1.1\">\n <metadata>\n  <rdf:RDF xmlns:dc=\"http://purl.org/dc/elements/1.1/\" xmlns:cc=\"http://creativecommons.org/ns#\" xmlns:rdf=\"http://www.w3.org/1999/02/22-rdf-syntax-ns#\">\n   <cc:Work>\n    <dc:type rdf:resource=\"http://purl.org/dc/dcmitype/StillImage\"/>\n    <dc:date>2023-09-30T19:32:29.334462</dc:date>\n    <dc:format>image/svg+xml</dc:format>\n    <dc:creator>\n     <cc:Agent>\n      <dc:title>Matplotlib v3.7.1, https://matplotlib.org/</dc:title>\n     </cc:Agent>\n    </dc:creator>\n   </cc:Work>\n  </rdf:RDF>\n </metadata>\n <defs>\n  <style type=\"text/css\">*{stroke-linejoin: round; stroke-linecap: butt}</style>\n </defs>\n <g id=\"figure_1\">\n  <g id=\"patch_1\">\n   <path d=\"M 0 114.698357 \nL 516.6 114.698357 \nL 516.6 0 \nL 0 0 \nz\n\" style=\"fill: #ffffff\"/>\n  </g>\n  <g id=\"axes_1\">\n   <g id=\"patch_2\">\n    <path d=\"M 7.2 107.498357 \nL 78.942857 107.498357 \nL 78.942857 35.7555 \nL 7.2 35.7555 \nz\n\" style=\"fill: #ffffff\"/>\n   </g>\n   <g clip-path=\"url(#p68eccefc1a)\">\n    <image xlink:href=\"data:image/png;base64,\niVBORw0KGgoAAAANSUhEUgAAAGQAAABkCAYAAABw4pVUAAAGQUlEQVR4nO2cS28cRRDHe2Z29mWvH2uv7SR+xHbiyFzggAiJxAEFxAWJCwef4B4OOSBx4AoSQSIXDnwChIDwAQAFcUAyDwkhLMUosYljEDg2tndtr2cf8+I21f82s7EtWZSl+p2qXb2zM/N3V1X39Kz1gvVqrAQ22P/3CQiICMIMEYQZIggzRBBmiCDMEEGYIYIwQwRhhgjCDBGEGSIIM0QQZoggzBBBmCGCMEMEYYYIwgwRhBkiCDMyR+ns9Pcn9u61GfBVZxw66DNV8E2XN6E93kX+czns6yjacxEqC3x+RKe7WD8Dvu8fTEK7/9t8Ylc+XQBftL+vDkP0zRi0n6/ch/bC3rnEfrTfA76t/WJiB4EDPr9N1zHzxgPwyQhhhgjCDBGEGdZLI9dho9z9t6YSu/LEP9B5ogfjvU4zcBN73esG32a1BO2glk1sdxfja+TS6cSYQlRc9hP7qak/wFfJ16E9VaC8Fcb4f/f24L3Efn/rIvi+Xp9N7I9nPgFf2clBO4zT9xh6MZ3rV944+Jabw4n93Y1nwScjhBkiCDNEEGZYl+c+gEAYvLaV2FtLA9A5v076OW08kB6mbdOHaULp04vImAlFrtYtQp9f0k7VyC9h3ojnA63EzGRDcHUXm4k9O7Ch0uhxm9DOWGFKT6UeNXEeMpSjnLbdLoLPCyiHtm7gPZYRwgwRhBmZ0mc/wB/q0eXE7j6LetkB2c1BPFDsUMiwQivVpxSWs0EX+qK8FqeMsKSy5HNqZqzDpqWdehzhgbY3KLzMV7FEtzconBSmd1Un6lUtFLXxXmV6KG7nCxjDnxul5ZLFs1gSywhhhgjCDBGEGQeW37tv/5jYfecxvjVmhhLbX8Natt1F2gYFzAt75/E7Qs1v+xjfs+t0SsaKByyrmGWuWSKHdTpO5BsH0nJaoa8BLq+HrqvVwtuTzaaXvW4flsiVPip7d7wC+GptakcuXr+MEGaIIMywXnTnYOzHQZDW99hkxkah3bhEq53bs7iC2hjRwlkbh7NDk2/lG+VyUDJKa33VOI+hxi3SSmxXsQW+nEvXv73TBb4oMqYBNsVJ33PBp7QwaXf74OopUZis3MTrlxHCDBGEGSIIM6yOP61hm8u0GnGHtYoovTx8HM4F2j3ycA53lujlcraK+SXAcK+iLPVtl/F8smUqUf1NLEkzZSxfdSwbb1UmQ8f1tnFF19JKZDePeXl8kJ682tf+BJ+MEGaIIMzovFHuKKEn1voaoc5ysB0HWhlobBQIl1cSe+zdFfCtvXk1sfcuYBjIr+GlOE0r1ZcZoc+2Lfx+v0Hlq+3i9ecKWL7ms9T2jBXtnFZal4oYBld/omnApJKQxRoRhBkiCDOOtNkasMxdbFoMNXJPfIRcZGW01V5jGefMrfnEdq5fBV/tSYzvfQuUC8yNFF6DngraJfxcXCWfNWBsjijgMovraH5j8mBZ6bOJiS/TS2sZIcwQQZghgjDj+Dmkw0bjjvlFKZynGEswet7Q84npG/poHnzeO1eg3Rim79TnJEopFexSnhgcrYGvps0nbAfPzTdevAkjc1sMEWm+PS8PvsFfadeJmV1lhDBDBGHG8UNWJzqFM6UOvSRz4OmlHuqMY0zfWoT2bzcvJbbVMp70NajttfBJ32iFVmLXd/C9Fv0JoVJKlYv05K+WxeXmwKdbG7aMUFfbUWnICGGGCMIMEYQZJ5NDTgotb1huFlxmXJ78gvquvoz/d06LStJGHXd9xCV6hz0yytrYeOlx+R490XT7cVmlV9tZsvl3rzosMkKYIYIw43SFLA146vgfuHd+TuzeiziLrz5Nn83/jrPo3OsPE3viMedQ0ezMBP4Mx1+vULuIr6B0REYIM0QQZoggzDi1OeQA5qY+rUQeubOOXQPa7D10+y74jrvFL1jF3SPDH1J75b0rZvdUZIQwQwRhxukNWeaKcpwebMIl/NW2gaX0B0SwySI0vB1Wse0i7u2NPC+xpz7H16s7rYXLCGGGCMIMEYQZpzeHnBDHfcdSzxkHjvnL3VSfiYwQZoggzBBBmCGCMEMEYYYIwgwRhBkiCDNEEGaIIMwQQZghgjBDBGGGCMIMEYQZIggzRBBmiCDMEEGYIYIwQwRhhgjCDBGEGSIIM/4F94O8Ngd0y+4AAAAASUVORK5CYII=\" id=\"image33b27e422b\" transform=\"scale(1 -1) translate(0 -72)\" x=\"7.2\" y=\"-35.498357\" width=\"72\" height=\"72\"/>\n   </g>\n   <g id=\"patch_3\">\n    <path d=\"M 7.2 107.498357 \nL 7.2 35.7555 \n\" style=\"fill: none; stroke: #000000; stroke-width: 0.8; stroke-linejoin: miter; stroke-linecap: square\"/>\n   </g>\n   <g id=\"patch_4\">\n    <path d=\"M 78.942857 107.498357 \nL 78.942857 35.7555 \n\" style=\"fill: none; stroke: #000000; stroke-width: 0.8; stroke-linejoin: miter; stroke-linecap: square\"/>\n   </g>\n   <g id=\"patch_5\">\n    <path d=\"M 7.2 107.498357 \nL 78.942857 107.498357 \n\" style=\"fill: none; stroke: #000000; stroke-width: 0.8; stroke-linejoin: miter; stroke-linecap: square\"/>\n   </g>\n   <g id=\"patch_6\">\n    <path d=\"M 7.2 35.7555 \nL 78.942857 35.7555 \n\" style=\"fill: none; stroke: #000000; stroke-width: 0.8; stroke-linejoin: miter; stroke-linecap: square\"/>\n   </g>\n   <g id=\"text_1\">\n    <!-- ankle boot -->\n    <g transform=\"translate(11.348304 16.318125) scale(0.12 -0.12)\">\n     <defs>\n      <path id=\"DejaVuSans-61\" d=\"M 2194 1759 \nQ 1497 1759 1228 1600 \nQ 959 1441 959 1056 \nQ 959 750 1161 570 \nQ 1363 391 1709 391 \nQ 2188 391 2477 730 \nQ 2766 1069 2766 1631 \nL 2766 1759 \nL 2194 1759 \nz\nM 3341 1997 \nL 3341 0 \nL 2766 0 \nL 2766 531 \nQ 2569 213 2275 61 \nQ 1981 -91 1556 -91 \nQ 1019 -91 701 211 \nQ 384 513 384 1019 \nQ 384 1609 779 1909 \nQ 1175 2209 1959 2209 \nL 2766 2209 \nL 2766 2266 \nQ 2766 2663 2505 2880 \nQ 2244 3097 1772 3097 \nQ 1472 3097 1187 3025 \nQ 903 2953 641 2809 \nL 641 3341 \nQ 956 3463 1253 3523 \nQ 1550 3584 1831 3584 \nQ 2591 3584 2966 3190 \nQ 3341 2797 3341 1997 \nz\n\" transform=\"scale(0.015625)\"/>\n      <path id=\"DejaVuSans-6e\" d=\"M 3513 2113 \nL 3513 0 \nL 2938 0 \nL 2938 2094 \nQ 2938 2591 2744 2837 \nQ 2550 3084 2163 3084 \nQ 1697 3084 1428 2787 \nQ 1159 2491 1159 1978 \nL 1159 0 \nL 581 0 \nL 581 3500 \nL 1159 3500 \nL 1159 2956 \nQ 1366 3272 1645 3428 \nQ 1925 3584 2291 3584 \nQ 2894 3584 3203 3211 \nQ 3513 2838 3513 2113 \nz\n\" transform=\"scale(0.015625)\"/>\n      <path id=\"DejaVuSans-6b\" d=\"M 581 4863 \nL 1159 4863 \nL 1159 1991 \nL 2875 3500 \nL 3609 3500 \nL 1753 1863 \nL 3688 0 \nL 2938 0 \nL 1159 1709 \nL 1159 0 \nL 581 0 \nL 581 4863 \nz\n\" transform=\"scale(0.015625)\"/>\n      <path id=\"DejaVuSans-6c\" d=\"M 603 4863 \nL 1178 4863 \nL 1178 0 \nL 603 0 \nL 603 4863 \nz\n\" transform=\"scale(0.015625)\"/>\n      <path id=\"DejaVuSans-65\" d=\"M 3597 1894 \nL 3597 1613 \nL 953 1613 \nQ 991 1019 1311 708 \nQ 1631 397 2203 397 \nQ 2534 397 2845 478 \nQ 3156 559 3463 722 \nL 3463 178 \nQ 3153 47 2828 -22 \nQ 2503 -91 2169 -91 \nQ 1331 -91 842 396 \nQ 353 884 353 1716 \nQ 353 2575 817 3079 \nQ 1281 3584 2069 3584 \nQ 2775 3584 3186 3129 \nQ 3597 2675 3597 1894 \nz\nM 3022 2063 \nQ 3016 2534 2758 2815 \nQ 2500 3097 2075 3097 \nQ 1594 3097 1305 2825 \nQ 1016 2553 972 2059 \nL 3022 2063 \nz\n\" transform=\"scale(0.015625)\"/>\n      <path id=\"DejaVuSans-20\" transform=\"scale(0.015625)\"/>\n      <path id=\"DejaVuSans-62\" d=\"M 3116 1747 \nQ 3116 2381 2855 2742 \nQ 2594 3103 2138 3103 \nQ 1681 3103 1420 2742 \nQ 1159 2381 1159 1747 \nQ 1159 1113 1420 752 \nQ 1681 391 2138 391 \nQ 2594 391 2855 752 \nQ 3116 1113 3116 1747 \nz\nM 1159 2969 \nQ 1341 3281 1617 3432 \nQ 1894 3584 2278 3584 \nQ 2916 3584 3314 3078 \nQ 3713 2572 3713 1747 \nQ 3713 922 3314 415 \nQ 2916 -91 2278 -91 \nQ 1894 -91 1617 61 \nQ 1341 213 1159 525 \nL 1159 0 \nL 581 0 \nL 581 4863 \nL 1159 4863 \nL 1159 2969 \nz\n\" transform=\"scale(0.015625)\"/>\n      <path id=\"DejaVuSans-6f\" d=\"M 1959 3097 \nQ 1497 3097 1228 2736 \nQ 959 2375 959 1747 \nQ 959 1119 1226 758 \nQ 1494 397 1959 397 \nQ 2419 397 2687 759 \nQ 2956 1122 2956 1747 \nQ 2956 2369 2687 2733 \nQ 2419 3097 1959 3097 \nz\nM 1959 3584 \nQ 2709 3584 3137 3096 \nQ 3566 2609 3566 1747 \nQ 3566 888 3137 398 \nQ 2709 -91 1959 -91 \nQ 1206 -91 779 398 \nQ 353 888 353 1747 \nQ 353 2609 779 3096 \nQ 1206 3584 1959 3584 \nz\n\" transform=\"scale(0.015625)\"/>\n      <path id=\"DejaVuSans-74\" d=\"M 1172 4494 \nL 1172 3500 \nL 2356 3500 \nL 2356 3053 \nL 1172 3053 \nL 1172 1153 \nQ 1172 725 1289 603 \nQ 1406 481 1766 481 \nL 2356 481 \nL 2356 0 \nL 1766 0 \nQ 1100 0 847 248 \nQ 594 497 594 1153 \nL 594 3053 \nL 172 3053 \nL 172 3500 \nL 594 3500 \nL 594 4494 \nL 1172 4494 \nz\n\" transform=\"scale(0.015625)\"/>\n     </defs>\n     <use xlink:href=\"#DejaVuSans-61\"/>\n     <use xlink:href=\"#DejaVuSans-6e\" x=\"61.279297\"/>\n     <use xlink:href=\"#DejaVuSans-6b\" x=\"124.658203\"/>\n     <use xlink:href=\"#DejaVuSans-6c\" x=\"182.568359\"/>\n     <use xlink:href=\"#DejaVuSans-65\" x=\"210.351562\"/>\n     <use xlink:href=\"#DejaVuSans-20\" x=\"271.875\"/>\n     <use xlink:href=\"#DejaVuSans-62\" x=\"303.662109\"/>\n     <use xlink:href=\"#DejaVuSans-6f\" x=\"367.138672\"/>\n     <use xlink:href=\"#DejaVuSans-6f\" x=\"428.320312\"/>\n     <use xlink:href=\"#DejaVuSans-74\" x=\"489.501953\"/>\n    </g>\n    <!-- ankle boot -->\n    <g transform=\"translate(11.348304 29.7555) scale(0.12 -0.12)\">\n     <use xlink:href=\"#DejaVuSans-61\"/>\n     <use xlink:href=\"#DejaVuSans-6e\" x=\"61.279297\"/>\n     <use xlink:href=\"#DejaVuSans-6b\" x=\"124.658203\"/>\n     <use xlink:href=\"#DejaVuSans-6c\" x=\"182.568359\"/>\n     <use xlink:href=\"#DejaVuSans-65\" x=\"210.351562\"/>\n     <use xlink:href=\"#DejaVuSans-20\" x=\"271.875\"/>\n     <use xlink:href=\"#DejaVuSans-62\" x=\"303.662109\"/>\n     <use xlink:href=\"#DejaVuSans-6f\" x=\"367.138672\"/>\n     <use xlink:href=\"#DejaVuSans-6f\" x=\"428.320312\"/>\n     <use xlink:href=\"#DejaVuSans-74\" x=\"489.501953\"/>\n    </g>\n   </g>\n  </g>\n  <g id=\"axes_2\">\n   <g id=\"patch_7\">\n    <path d=\"M 93.291429 107.498357 \nL 165.034286 107.498357 \nL 165.034286 35.7555 \nL 93.291429 35.7555 \nz\n\" style=\"fill: #ffffff\"/>\n   </g>\n   <g clip-path=\"url(#pcd9416c4af)\">\n    <image xlink:href=\"data:image/png;base64,\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\" id=\"image74487165a4\" transform=\"scale(1 -1) translate(0 -72)\" x=\"93.291429\" y=\"-35.498357\" width=\"72\" height=\"72\"/>\n   </g>\n   <g id=\"patch_8\">\n    <path d=\"M 93.291429 107.498357 \nL 93.291429 35.7555 \n\" style=\"fill: none; stroke: #000000; stroke-width: 0.8; stroke-linejoin: miter; stroke-linecap: square\"/>\n   </g>\n   <g id=\"patch_9\">\n    <path d=\"M 165.034286 107.498357 \nL 165.034286 35.7555 \n\" style=\"fill: none; stroke: #000000; stroke-width: 0.8; stroke-linejoin: miter; stroke-linecap: square\"/>\n   </g>\n   <g id=\"patch_10\">\n    <path d=\"M 93.291429 107.498357 \nL 165.034286 107.498357 \n\" style=\"fill: none; stroke: #000000; stroke-width: 0.8; stroke-linejoin: miter; stroke-linecap: square\"/>\n   </g>\n   <g id=\"patch_11\">\n    <path d=\"M 93.291429 35.7555 \nL 165.034286 35.7555 \n\" style=\"fill: none; stroke: #000000; stroke-width: 0.8; stroke-linejoin: miter; stroke-linecap: square\"/>\n   </g>\n   <g id=\"text_2\">\n    <!-- pullover -->\n    <g transform=\"translate(104.836607 16.318125) scale(0.12 -0.12)\">\n     <defs>\n      <path id=\"DejaVuSans-70\" d=\"M 1159 525 \nL 1159 -1331 \nL 581 -1331 \nL 581 3500 \nL 1159 3500 \nL 1159 2969 \nQ 1341 3281 1617 3432 \nQ 1894 3584 2278 3584 \nQ 2916 3584 3314 3078 \nQ 3713 2572 3713 1747 \nQ 3713 922 3314 415 \nQ 2916 -91 2278 -91 \nQ 1894 -91 1617 61 \nQ 1341 213 1159 525 \nz\nM 3116 1747 \nQ 3116 2381 2855 2742 \nQ 2594 3103 2138 3103 \nQ 1681 3103 1420 2742 \nQ 1159 2381 1159 1747 \nQ 1159 1113 1420 752 \nQ 1681 391 2138 391 \nQ 2594 391 2855 752 \nQ 3116 1113 3116 1747 \nz\n\" transform=\"scale(0.015625)\"/>\n      <path id=\"DejaVuSans-75\" d=\"M 544 1381 \nL 544 3500 \nL 1119 3500 \nL 1119 1403 \nQ 1119 906 1312 657 \nQ 1506 409 1894 409 \nQ 2359 409 2629 706 \nQ 2900 1003 2900 1516 \nL 2900 3500 \nL 3475 3500 \nL 3475 0 \nL 2900 0 \nL 2900 538 \nQ 2691 219 2414 64 \nQ 2138 -91 1772 -91 \nQ 1169 -91 856 284 \nQ 544 659 544 1381 \nz\nM 1991 3584 \nL 1991 3584 \nz\n\" transform=\"scale(0.015625)\"/>\n      <path id=\"DejaVuSans-76\" d=\"M 191 3500 \nL 800 3500 \nL 1894 563 \nL 2988 3500 \nL 3597 3500 \nL 2284 0 \nL 1503 0 \nL 191 3500 \nz\n\" transform=\"scale(0.015625)\"/>\n      <path id=\"DejaVuSans-72\" d=\"M 2631 2963 \nQ 2534 3019 2420 3045 \nQ 2306 3072 2169 3072 \nQ 1681 3072 1420 2755 \nQ 1159 2438 1159 1844 \nL 1159 0 \nL 581 0 \nL 581 3500 \nL 1159 3500 \nL 1159 2956 \nQ 1341 3275 1631 3429 \nQ 1922 3584 2338 3584 \nQ 2397 3584 2469 3576 \nQ 2541 3569 2628 3553 \nL 2631 2963 \nz\n\" transform=\"scale(0.015625)\"/>\n     </defs>\n     <use xlink:href=\"#DejaVuSans-70\"/>\n     <use xlink:href=\"#DejaVuSans-75\" x=\"63.476562\"/>\n     <use xlink:href=\"#DejaVuSans-6c\" x=\"126.855469\"/>\n     <use xlink:href=\"#DejaVuSans-6c\" x=\"154.638672\"/>\n     <use xlink:href=\"#DejaVuSans-6f\" x=\"182.421875\"/>\n     <use xlink:href=\"#DejaVuSans-76\" x=\"243.603516\"/>\n     <use xlink:href=\"#DejaVuSans-65\" x=\"302.783203\"/>\n     <use xlink:href=\"#DejaVuSans-72\" x=\"364.306641\"/>\n    </g>\n    <!-- pullover -->\n    <g transform=\"translate(104.836607 29.7555) scale(0.12 -0.12)\">\n     <use xlink:href=\"#DejaVuSans-70\"/>\n     <use xlink:href=\"#DejaVuSans-75\" x=\"63.476562\"/>\n     <use xlink:href=\"#DejaVuSans-6c\" x=\"126.855469\"/>\n     <use xlink:href=\"#DejaVuSans-6c\" x=\"154.638672\"/>\n     <use xlink:href=\"#DejaVuSans-6f\" x=\"182.421875\"/>\n     <use xlink:href=\"#DejaVuSans-76\" x=\"243.603516\"/>\n     <use xlink:href=\"#DejaVuSans-65\" x=\"302.783203\"/>\n     <use xlink:href=\"#DejaVuSans-72\" x=\"364.306641\"/>\n    </g>\n   </g>\n  </g>\n  <g id=\"axes_3\">\n   <g id=\"patch_12\">\n    <path d=\"M 179.382857 107.498357 \nL 251.125714 107.498357 \nL 251.125714 35.7555 \nL 179.382857 35.7555 \nz\n\" style=\"fill: #ffffff\"/>\n   </g>\n   <g clip-path=\"url(#pd10a630457)\">\n    <image xlink:href=\"data:image/png;base64,\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\" id=\"image7bfa7a6704\" transform=\"scale(1 -1) translate(0 -72)\" x=\"179.382857\" y=\"-35.498357\" width=\"72\" height=\"72\"/>\n   </g>\n   <g id=\"patch_13\">\n    <path d=\"M 179.382857 107.498357 \nL 179.382857 35.7555 \n\" style=\"fill: none; stroke: #000000; stroke-width: 0.8; stroke-linejoin: miter; stroke-linecap: square\"/>\n   </g>\n   <g id=\"patch_14\">\n    <path d=\"M 251.125714 107.498357 \nL 251.125714 35.7555 \n\" style=\"fill: none; stroke: #000000; stroke-width: 0.8; stroke-linejoin: miter; stroke-linecap: square\"/>\n   </g>\n   <g id=\"patch_15\">\n    <path d=\"M 179.382857 107.498357 \nL 251.125714 107.498357 \n\" style=\"fill: none; stroke: #000000; stroke-width: 0.8; stroke-linejoin: miter; stroke-linecap: square\"/>\n   </g>\n   <g id=\"patch_16\">\n    <path d=\"M 179.382857 35.7555 \nL 251.125714 35.7555 \n\" style=\"fill: none; stroke: #000000; stroke-width: 0.8; stroke-linejoin: miter; stroke-linecap: square\"/>\n   </g>\n   <g id=\"text_3\">\n    <!-- trouser -->\n    <g transform=\"translate(193.812723 16.318125) scale(0.12 -0.12)\">\n     <defs>\n      <path id=\"DejaVuSans-73\" d=\"M 2834 3397 \nL 2834 2853 \nQ 2591 2978 2328 3040 \nQ 2066 3103 1784 3103 \nQ 1356 3103 1142 2972 \nQ 928 2841 928 2578 \nQ 928 2378 1081 2264 \nQ 1234 2150 1697 2047 \nL 1894 2003 \nQ 2506 1872 2764 1633 \nQ 3022 1394 3022 966 \nQ 3022 478 2636 193 \nQ 2250 -91 1575 -91 \nQ 1294 -91 989 -36 \nQ 684 19 347 128 \nL 347 722 \nQ 666 556 975 473 \nQ 1284 391 1588 391 \nQ 1994 391 2212 530 \nQ 2431 669 2431 922 \nQ 2431 1156 2273 1281 \nQ 2116 1406 1581 1522 \nL 1381 1569 \nQ 847 1681 609 1914 \nQ 372 2147 372 2553 \nQ 372 3047 722 3315 \nQ 1072 3584 1716 3584 \nQ 2034 3584 2315 3537 \nQ 2597 3491 2834 3397 \nz\n\" transform=\"scale(0.015625)\"/>\n     </defs>\n     <use xlink:href=\"#DejaVuSans-74\"/>\n     <use xlink:href=\"#DejaVuSans-72\" x=\"39.208984\"/>\n     <use xlink:href=\"#DejaVuSans-6f\" x=\"78.072266\"/>\n     <use xlink:href=\"#DejaVuSans-75\" x=\"139.253906\"/>\n     <use xlink:href=\"#DejaVuSans-73\" x=\"202.632812\"/>\n     <use xlink:href=\"#DejaVuSans-65\" x=\"254.732422\"/>\n     <use xlink:href=\"#DejaVuSans-72\" x=\"316.255859\"/>\n    </g>\n    <!-- trouser -->\n    <g transform=\"translate(193.812723 29.7555) scale(0.12 -0.12)\">\n     <use xlink:href=\"#DejaVuSans-74\"/>\n     <use xlink:href=\"#DejaVuSans-72\" x=\"39.208984\"/>\n     <use xlink:href=\"#DejaVuSans-6f\" x=\"78.072266\"/>\n     <use xlink:href=\"#DejaVuSans-75\" x=\"139.253906\"/>\n     <use xlink:href=\"#DejaVuSans-73\" x=\"202.632812\"/>\n     <use xlink:href=\"#DejaVuSans-65\" x=\"254.732422\"/>\n     <use xlink:href=\"#DejaVuSans-72\" x=\"316.255859\"/>\n    </g>\n   </g>\n  </g>\n  <g id=\"axes_4\">\n   <g id=\"patch_17\">\n    <path d=\"M 265.474286 107.498357 \nL 337.217143 107.498357 \nL 337.217143 35.7555 \nL 265.474286 35.7555 \nz\n\" style=\"fill: #ffffff\"/>\n   </g>\n   <g clip-path=\"url(#p535f9abb8d)\">\n    <image xlink:href=\"data:image/png;base64,\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\" id=\"image7a9d805325\" transform=\"scale(1 -1) translate(0 -72)\" x=\"265.474286\" y=\"-35.498357\" width=\"72\" height=\"72\"/>\n   </g>\n   <g id=\"patch_18\">\n    <path d=\"M 265.474286 107.498357 \nL 265.474286 35.7555 \n\" style=\"fill: none; stroke: #000000; stroke-width: 0.8; stroke-linejoin: miter; stroke-linecap: square\"/>\n   </g>\n   <g id=\"patch_19\">\n    <path d=\"M 337.217143 107.498357 \nL 337.217143 35.7555 \n\" style=\"fill: none; stroke: #000000; stroke-width: 0.8; stroke-linejoin: miter; stroke-linecap: square\"/>\n   </g>\n   <g id=\"patch_20\">\n    <path d=\"M 265.474286 107.498357 \nL 337.217143 107.498357 \n\" style=\"fill: none; stroke: #000000; stroke-width: 0.8; stroke-linejoin: miter; stroke-linecap: square\"/>\n   </g>\n   <g id=\"patch_21\">\n    <path d=\"M 265.474286 35.7555 \nL 337.217143 35.7555 \n\" style=\"fill: none; stroke: #000000; stroke-width: 0.8; stroke-linejoin: miter; stroke-linecap: square\"/>\n   </g>\n   <g id=\"text_4\">\n    <!-- trouser -->\n    <g transform=\"translate(279.904152 16.318125) scale(0.12 -0.12)\">\n     <use xlink:href=\"#DejaVuSans-74\"/>\n     <use xlink:href=\"#DejaVuSans-72\" x=\"39.208984\"/>\n     <use xlink:href=\"#DejaVuSans-6f\" x=\"78.072266\"/>\n     <use xlink:href=\"#DejaVuSans-75\" x=\"139.253906\"/>\n     <use xlink:href=\"#DejaVuSans-73\" x=\"202.632812\"/>\n     <use xlink:href=\"#DejaVuSans-65\" x=\"254.732422\"/>\n     <use xlink:href=\"#DejaVuSans-72\" x=\"316.255859\"/>\n    </g>\n    <!-- trouser -->\n    <g transform=\"translate(279.904152 29.7555) scale(0.12 -0.12)\">\n     <use xlink:href=\"#DejaVuSans-74\"/>\n     <use xlink:href=\"#DejaVuSans-72\" x=\"39.208984\"/>\n     <use xlink:href=\"#DejaVuSans-6f\" x=\"78.072266\"/>\n     <use xlink:href=\"#DejaVuSans-75\" x=\"139.253906\"/>\n     <use xlink:href=\"#DejaVuSans-73\" x=\"202.632812\"/>\n     <use xlink:href=\"#DejaVuSans-65\" x=\"254.732422\"/>\n     <use xlink:href=\"#DejaVuSans-72\" x=\"316.255859\"/>\n    </g>\n   </g>\n  </g>\n  <g id=\"axes_5\">\n   <g id=\"patch_22\">\n    <path d=\"M 351.565714 107.498357 \nL 423.308571 107.498357 \nL 423.308571 35.7555 \nL 351.565714 35.7555 \nz\n\" style=\"fill: #ffffff\"/>\n   </g>\n   <g clip-path=\"url(#pf794895c9f)\">\n    <image xlink:href=\"data:image/png;base64,\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\" id=\"imagee9abe565a7\" transform=\"scale(1 -1) translate(0 -72)\" x=\"351.565714\" y=\"-35.498357\" width=\"72\" height=\"72\"/>\n   </g>\n   <g id=\"patch_23\">\n    <path d=\"M 351.565714 107.498357 \nL 351.565714 35.7555 \n\" style=\"fill: none; stroke: #000000; stroke-width: 0.8; stroke-linejoin: miter; stroke-linecap: square\"/>\n   </g>\n   <g id=\"patch_24\">\n    <path d=\"M 423.308571 107.498357 \nL 423.308571 35.7555 \n\" style=\"fill: none; stroke: #000000; stroke-width: 0.8; stroke-linejoin: miter; stroke-linecap: square\"/>\n   </g>\n   <g id=\"patch_25\">\n    <path d=\"M 351.565714 107.498357 \nL 423.308571 107.498357 \n\" style=\"fill: none; stroke: #000000; stroke-width: 0.8; stroke-linejoin: miter; stroke-linecap: square\"/>\n   </g>\n   <g id=\"patch_26\">\n    <path d=\"M 351.565714 35.7555 \nL 423.308571 35.7555 \n\" style=\"fill: none; stroke: #000000; stroke-width: 0.8; stroke-linejoin: miter; stroke-linecap: square\"/>\n   </g>\n   <g id=\"text_5\">\n    <!-- shirt -->\n    <g transform=\"translate(374.023393 16.318125) scale(0.12 -0.12)\">\n     <defs>\n      <path id=\"DejaVuSans-68\" d=\"M 3513 2113 \nL 3513 0 \nL 2938 0 \nL 2938 2094 \nQ 2938 2591 2744 2837 \nQ 2550 3084 2163 3084 \nQ 1697 3084 1428 2787 \nQ 1159 2491 1159 1978 \nL 1159 0 \nL 581 0 \nL 581 4863 \nL 1159 4863 \nL 1159 2956 \nQ 1366 3272 1645 3428 \nQ 1925 3584 2291 3584 \nQ 2894 3584 3203 3211 \nQ 3513 2838 3513 2113 \nz\n\" transform=\"scale(0.015625)\"/>\n      <path id=\"DejaVuSans-69\" d=\"M 603 3500 \nL 1178 3500 \nL 1178 0 \nL 603 0 \nL 603 3500 \nz\nM 603 4863 \nL 1178 4863 \nL 1178 4134 \nL 603 4134 \nL 603 4863 \nz\n\" transform=\"scale(0.015625)\"/>\n     </defs>\n     <use xlink:href=\"#DejaVuSans-73\"/>\n     <use xlink:href=\"#DejaVuSans-68\" x=\"52.099609\"/>\n     <use xlink:href=\"#DejaVuSans-69\" x=\"115.478516\"/>\n     <use xlink:href=\"#DejaVuSans-72\" x=\"143.261719\"/>\n     <use xlink:href=\"#DejaVuSans-74\" x=\"184.375\"/>\n    </g>\n    <!-- shirt -->\n    <g transform=\"translate(374.023393 29.7555) scale(0.12 -0.12)\">\n     <use xlink:href=\"#DejaVuSans-73\"/>\n     <use xlink:href=\"#DejaVuSans-68\" x=\"52.099609\"/>\n     <use xlink:href=\"#DejaVuSans-69\" x=\"115.478516\"/>\n     <use xlink:href=\"#DejaVuSans-72\" x=\"143.261719\"/>\n     <use xlink:href=\"#DejaVuSans-74\" x=\"184.375\"/>\n    </g>\n   </g>\n  </g>\n  <g id=\"axes_6\">\n   <g id=\"patch_27\">\n    <path d=\"M 437.657143 107.498357 \nL 509.4 107.498357 \nL 509.4 35.7555 \nL 437.657143 35.7555 \nz\n\" style=\"fill: #ffffff\"/>\n   </g>\n   <g clip-path=\"url(#p4ae0ef7834)\">\n    <image xlink:href=\"data:image/png;base64,\niVBORw0KGgoAAAANSUhEUgAAAGQAAABkCAYAAABw4pVUAAAHCElEQVR4nO2dXWwUVRTHZ2ZnP7vb3S4ttFCEEktBgggEE0KABElE/IghmugDCZiIL8ZEX40P+mDii9FEjTEmvhgJxi+UYAyIiUAUI6iIQKsS3ULod7v92I/Ozqxv98x/zKyltjsn6fk9nduzmTvNmXvPnXPPPaPv1h+pakzRN6+DdveTDaSzdNCtPFqBdvjked/rjjyxVclD26dBZ+TDSl72jQO6+NEf/uOO/z/GvPcg3BJiEGaIQZhhBn0Dtbj+PLaPbXpdyVNVvPX9+WegvfJkjQvvG1biuQ3vgarPDin50bZDeM2jte52bpARwgwxCDOCmbJ015K16r/q3tTWC+2P8puV3BEdAN1tX5Vm3H1+MqZk9xSlaZr2+/RiJVuD8Rlfc66QEcIMMQgzxCDMCMSH6CGat6sVDHmU79+i5F1NuM7st9JKPjveCTrj9E8z7j+TKiq5r5ICXV+F+tAzGFapBzJCmCEGYUYgU1bVtn11ufvoGbGr+Lw0mxNK/rB/I+q0nhn3vzQ5ruQROwm6u2J/032ORmZ8zblCRggzxCDMEIMwI5jQSY1wyWPbvlNyqRoGXauZp0scXzTr7pcm6DrTVQydWO4osoO7kvVARggzxCDMCHyDKtS5Ctpr4t8quafUBrqYbil5ydlR0GE6Qm1SJkWGC04UdGNOgu6tLFPWgkcMwgwxCDMC9yFXnm2GdiZUUHJYxxDL1SL5FOfi1Vn32REd9NWVHFpqVzIV39/NFzJCmCEGYYYYhBmB+5Ddm3+D9qXiciVnzSnQtUdGlHxRa511n/tSFKp/qW8X6BpN2k2U0IkgBuFG4FPWzWIjtBvMspJXeZLhXr6yR8lt2pVZ9zlo03N4/DKeQelspz6NUv2fVxkhzBCDMEMMwoxgEuVM6jZhYjJa0abQRcIogy55OK35oYcxQ6Rq0XXN9mWgO124XcnhXgy/D2Up/O7EbiWoPzfICGGGGIQZgUxZ/U/dreSsjsvXqEER1j/K+Dbe+MkFJf8rTaLqP71MbVgK7QeSR5T8queRdBz6gzmOCRD1QEYIM8QgzBCDMCMQHzK2jvzEcKkBdKZBu4QHl1wC3cmO/Uq2e/7Ei4Y8873r3EluLz53h8c3UH9TGNEdG6Tk67B/Tvi8ISOEGWIQZgQT7Q3TonV8Gt+Uy3ZWyZZncTu2sUXJKc+UVbX8ExI6um5CO1+ht3Er5VlAh6htZeo/Z8kIYYYYhBliEGYE4kPCSYrEJsIW6CxXqYv38+tBN/AQRX9TRzTE8Z/v97RiIsWQRUehK4vQ93St6FNy7tQK32vOFzJCmCEGYYYYhBmB+JCWJjpv3hQtgG6gQPN7rpwF3StbPlbyOxoe9KnFzgZMzP48v0nJyWZMxluT7ldyryM+ZMEjBmFGIFNWzKSlZmtsAnRDRYq2DpSwUs/OxRQCeffOvaCrdV5kYwSfu8+qFOFdls57f64IzbxI3ZwhI4QZYhBmiEGYEYgPGZykXcIdLehDdJ0yTUo23t6EQ6Hx7udwp7HzAPZh7aYKpmH9Z9S5ymlEQhhySbvOh1Trn3QiI4QbYhBmBDJlTV2jHN2utbib96V1h5LbEhiJPVFYreTXth0G3ZvaamjnDlLinO1Jois7/v92wqBItExZghiEG2IQZgTiQ9I9FLpY/vAw6MYLVCg/nsXdxO4CLYkfbPFWIUUfcmA9VaYbsDGi7C7ZMeHJejF08jcOFrSrCzJCmCEGYUYgU1b2KiUrNOg4LTUm/EOshk5v6qeKuHmUPoNFMXckv1Zyt4VHrxtdFeXiJvYf02mpbUfr/0VBGSHMEIMwQwzCjEB8SDRHVX3aTf8kaUfDsxuLI1RE3/0tEU3TtBfbv4D2oKu6aM7CZIlRV7K17eAz6T6KbeOKuC7ICGGGGIQZYhBmBOJDKtf+UnLJU5h/bZYS1QzPgR13yCNl4PvKsUlMzE6HipofUxVyDmXPrmSLSX7KiUppjQWPGIQZgVeUe3tkK7Qfb/5eyW/dwAKV+TgtV2OecyXLwyPQdn/+ruwJ27qr1rUnx0AXcU2L8ZtSWmPBIwZhhhiEGYH7kE+PbIf2C09TCaazmeugixnkN7zV5k6MYnVRd4mOtQ2Y2dIcnlSyewmsaZp2ZpJ2HlvPYR/1QEYIM8QgzAh8ylr5QS+0fzlE8m0RTIDI266SGFW89UwYExnclem8b/UD07SDmJtsAt2vw/SNkvSp87VufV6QEcIMMQgzxCDMCNyHVKdw7g+5Irzebwy6o73ub1VpmqbtbMQzhoMV8hPeT7i6s1fuXXIZdD/mKZsFPVh9kBHCDDEIMwKfsuwhnBje6L9Hye468JqmaePTlPebieAG1IUb7dCOR+mtvqsZv0PS76oWETHwSFvIcG9K4edd64GMEGaIQZghBmHGP08yyeNAr6LhAAAAAElFTkSuQmCC\" id=\"image07a5d8d28f\" transform=\"scale(1 -1) translate(0 -72)\" x=\"437.657143\" y=\"-35.498357\" width=\"72\" height=\"72\"/>\n   </g>\n   <g id=\"patch_28\">\n    <path d=\"M 437.657143 107.498357 \nL 437.657143 35.7555 \n\" style=\"fill: none; stroke: #000000; stroke-width: 0.8; stroke-linejoin: miter; stroke-linecap: square\"/>\n   </g>\n   <g id=\"patch_29\">\n    <path d=\"M 509.4 107.498357 \nL 509.4 35.7555 \n\" style=\"fill: none; stroke: #000000; stroke-width: 0.8; stroke-linejoin: miter; stroke-linecap: square\"/>\n   </g>\n   <g id=\"patch_30\">\n    <path d=\"M 437.657143 107.498357 \nL 509.4 107.498357 \n\" style=\"fill: none; stroke: #000000; stroke-width: 0.8; stroke-linejoin: miter; stroke-linecap: square\"/>\n   </g>\n   <g id=\"patch_31\">\n    <path d=\"M 437.657143 35.7555 \nL 509.4 35.7555 \n\" style=\"fill: none; stroke: #000000; stroke-width: 0.8; stroke-linejoin: miter; stroke-linecap: square\"/>\n   </g>\n   <g id=\"text_6\">\n    <!-- trouser -->\n    <g transform=\"translate(452.087009 16.318125) scale(0.12 -0.12)\">\n     <use xlink:href=\"#DejaVuSans-74\"/>\n     <use xlink:href=\"#DejaVuSans-72\" x=\"39.208984\"/>\n     <use xlink:href=\"#DejaVuSans-6f\" x=\"78.072266\"/>\n     <use xlink:href=\"#DejaVuSans-75\" x=\"139.253906\"/>\n     <use xlink:href=\"#DejaVuSans-73\" x=\"202.632812\"/>\n     <use xlink:href=\"#DejaVuSans-65\" x=\"254.732422\"/>\n     <use xlink:href=\"#DejaVuSans-72\" x=\"316.255859\"/>\n    </g>\n    <!-- trouser -->\n    <g transform=\"translate(452.087009 29.7555) scale(0.12 -0.12)\">\n     <use xlink:href=\"#DejaVuSans-74\"/>\n     <use xlink:href=\"#DejaVuSans-72\" x=\"39.208984\"/>\n     <use xlink:href=\"#DejaVuSans-6f\" x=\"78.072266\"/>\n     <use xlink:href=\"#DejaVuSans-75\" x=\"139.253906\"/>\n     <use xlink:href=\"#DejaVuSans-73\" x=\"202.632812\"/>\n     <use xlink:href=\"#DejaVuSans-65\" x=\"254.732422\"/>\n     <use xlink:href=\"#DejaVuSans-72\" x=\"316.255859\"/>\n    </g>\n   </g>\n  </g>\n </g>\n <defs>\n  <clipPath id=\"p68eccefc1a\">\n   <rect x=\"7.2\" y=\"35.7555\" width=\"71.742857\" height=\"71.742857\"/>\n  </clipPath>\n  <clipPath id=\"pcd9416c4af\">\n   <rect x=\"93.291429\" y=\"35.7555\" width=\"71.742857\" height=\"71.742857\"/>\n  </clipPath>\n  <clipPath id=\"pd10a630457\">\n   <rect x=\"179.382857\" y=\"35.7555\" width=\"71.742857\" height=\"71.742857\"/>\n  </clipPath>\n  <clipPath id=\"p535f9abb8d\">\n   <rect x=\"265.474286\" y=\"35.7555\" width=\"71.742857\" height=\"71.742857\"/>\n  </clipPath>\n  <clipPath id=\"pf794895c9f\">\n   <rect x=\"351.565714\" y=\"35.7555\" width=\"71.742857\" height=\"71.742857\"/>\n  </clipPath>\n  <clipPath id=\"p4ae0ef7834\">\n   <rect x=\"437.657143\" y=\"35.7555\" width=\"71.742857\" height=\"71.742857\"/>\n  </clipPath>\n </defs>\n</svg>\n"
          },
          "metadata": {}
        }
      ]
    },
    {
      "cell_type": "markdown",
      "source": [
        "## Summary\n",
        "\n",
        "* With softmax regression, we can train models for multiclass classification.\n",
        "* The training loop of softmax regression is very similar to that in linear regression: retrieve and read data, define models and loss functions, then train models using optimization algorithms. As you will soon find out, most common deep learning models have similar training procedures.\n"
      ],
      "metadata": {
        "id": "PjuqUenbdAwT"
      }
    },
    {
      "cell_type": "markdown",
      "metadata": {
        "origin_pos": 52,
        "id": "rnFgEIgqqWrQ"
      },
      "source": [
        "\n",
        "# Assignment\n",
        "\n",
        "1. In this section, we directly implemented the softmax function based on the mathematical definition of the softmax operation. What problems might this cause? Hint: Try calculating the size of $\\exp(50)$.\n",
        "1. The function `cross_entropy` in this section was implemented according to the definition of the cross-entropy loss function. What could be the problem with this implementation? Hint: consider the domain of the logarithm.\n",
        "1. What solutions can you consider to fix the two problems above?\n",
        "1. Is it always a good idea to return the most likely label? For example, would you do this for medical diagnosis?\n",
        "1. Assume that we want to use softmax regression to predict the next word based on some features. What are some problems that might arise from a large vocabulary?\n"
      ]
    }
  ]
}